{
 "cells": [
  {
   "cell_type": "markdown",
   "metadata": {},
   "source": [
    "Values can be grouped together into collections, which allows programmers to organize those values and refer to all of them with a single name. Separating expressions by commas within square brackets places the values of those expressions into a *list*, which is a built-in sequential collection. After a comma, it's okay to start a new line. Below, we collect four different temperatures into a list called `temps`. These are the estimated average daily high temperatures over all land on Earth (in degrees Celsius) for the decades surrounding 1850, 1900, 1950, and 2000, respectively, expressed as deviations from the average absolute high temperature between 1951 and 1980, which was 14.48 degrees.\\footnote{http://berkeleyearth.lbl.gov/regions/global-land} "
   ]
  },
  {
   "cell_type": "code",
   "execution_count": 7,
   "metadata": {
    "collapsed": false
   },
   "outputs": [
    {
     "data": {
      "text/plain": [
       "[13.6, 14.387, 14.585, 15.164]"
      ]
     },
     "execution_count": 7,
     "metadata": {},
     "output_type": "execute_result"
    }
   ],
   "source": [
    "baseline_high = 14.48\n",
    "highs = [baseline_high - 0.880, baseline_high - 0.093,\n",
    "         baseline_high + 0.105, baseline_high + 0.684]\n",
    "highs"
   ]
  },
  {
   "cell_type": "markdown",
   "metadata": {},
   "source": [
    "Lists allow us to pass multiple values into a function using a single name. For instance, the `sum` function computes the sum of all values in a list, and the `len` function computes the length of the list. Using them together, we can compute the average of the list."
   ]
  },
  {
   "cell_type": "code",
   "execution_count": 8,
   "metadata": {
    "collapsed": false
   },
   "outputs": [
    {
     "data": {
      "text/plain": [
       "14.434000000000001"
      ]
     },
     "execution_count": 8,
     "metadata": {},
     "output_type": "execute_result"
    }
   ],
   "source": [
    "sum(highs)/len(highs)"
   ]
  },
  {
   "cell_type": "markdown",
   "metadata": {},
   "source": [
    "**Tuples.** Values can also be grouped together into *tuples* in addition to *lists*. A tuple is expressed by separating elements using commas within parentheses: `(1, 2, 3)`. In many cases, lists and tuples are interchangeable. We will use a tuple to hold the average daily low tempuratures for the same four time ranges. The only change in the code is the switch to parentheses instead of brackets."
   ]
  },
  {
   "cell_type": "code",
   "execution_count": 9,
   "metadata": {
    "collapsed": false
   },
   "outputs": [
    {
     "data": {
      "text/plain": [
       "(2.128, 2.371, 2.874, 3.7279999999999998)"
      ]
     },
     "execution_count": 9,
     "metadata": {},
     "output_type": "execute_result"
    }
   ],
   "source": [
    "baseline_low = 3.00\n",
    "lows = (baseline_low - 0.872, baseline_low - 0.629,\n",
    "        baseline_low - 0.126, baseline_low + 0.728)\n",
    "lows"
   ]
  },
  {
   "cell_type": "markdown",
   "metadata": {},
   "source": [
    "The complete chart of daily high and low temperatures appears below. \n",
    "\n",
    "### Mean of Daily High Temperature\n",
    "\n",
    "![Mean of Daily High Temperature](http://berkeleyearth.lbl.gov/auto/Regional/TMAX/Figures/global-land-TMAX-Trend.png)\n",
    "\n",
    "### Mean of Daily Low Temperature\n",
    "\n",
    "![Mean of Daily Low Temperature](http://berkeleyearth.lbl.gov/auto/Regional/TMIN/Figures/global-land-TMIN-Trend.png)"
   ]
  }
 ],
 "metadata": {
  "kernelspec": {
   "display_name": "Python 3",
   "language": "python",
   "name": "python3"
  },
  "language_info": {
   "codemirror_mode": {
    "name": "ipython",
    "version": 3
   },
   "file_extension": ".py",
   "mimetype": "text/x-python",
   "name": "python",
   "nbconvert_exporter": "python",
   "pygments_lexer": "ipython3",
   "version": "3.4.4"
  }
 },
 "nbformat": 4,
 "nbformat_minor": 0
}
