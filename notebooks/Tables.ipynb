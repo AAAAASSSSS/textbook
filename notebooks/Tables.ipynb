{
 "cells": [
  {
   "cell_type": "code",
   "execution_count": 1,
   "metadata": {
    "collapsed": false
   },
   "outputs": [],
   "source": [
    "# HIDDEN\n",
    "import numpy as np\n",
    "np.set_printoptions(threshold=50)"
   ]
  },
  {
   "cell_type": "markdown",
   "metadata": {},
   "source": [
    "Tables are a fundamental object type for representing data sets. A table can be viewed in two ways. Tables are a sequence of named columns that each describe a single aspect of all entries in a data set. Tables are also a sequence of rows that each contain all information about a single entry in a data set. \n",
    "\n",
    "In order to use tables, import all of the module called `datascience`, a module created for this text."
   ]
  },
  {
   "cell_type": "code",
   "execution_count": 2,
   "metadata": {
    "collapsed": true
   },
   "outputs": [],
   "source": [
    "from datascience import *"
   ]
  },
  {
   "cell_type": "markdown",
   "metadata": {},
   "source": [
    "Empty tables can be created using the `Table` function, which optionally takes a list of column labels. The `with_row` and `with_rows` methods of a table return new tables with one or more additional rows. For example, we could create a table of `Odd` and `Even` numbers."
   ]
  },
  {
   "cell_type": "code",
   "execution_count": 3,
   "metadata": {
    "collapsed": false
   },
   "outputs": [
    {
     "data": {
      "text/html": [
       "<table border=\"1\" class=\"dataframe\">\n",
       "    <thead>\n",
       "        <tr>\n",
       "            <th>Odd</th> <th>Even</th>\n",
       "        </tr>\n",
       "    </thead>\n",
       "    <tbody>\n",
       "        <tr>\n",
       "            <td>3   </td> <td>4   </td>\n",
       "        </tr>\n",
       "    </tbody>\n",
       "</table>"
      ],
      "text/plain": [
       "Odd  | Even\n",
       "3    | 4"
      ]
     },
     "execution_count": 3,
     "metadata": {},
     "output_type": "execute_result"
    }
   ],
   "source": [
    "Table(['Odd', 'Even']).with_row([3, 4])"
   ]
  },
  {
   "cell_type": "code",
   "execution_count": 4,
   "metadata": {
    "collapsed": false
   },
   "outputs": [
    {
     "data": {
      "text/html": [
       "<table border=\"1\" class=\"dataframe\">\n",
       "    <thead>\n",
       "        <tr>\n",
       "            <th>Odd</th> <th>Even</th>\n",
       "        </tr>\n",
       "    </thead>\n",
       "    <tbody>\n",
       "        <tr>\n",
       "            <td>3   </td> <td>4   </td>\n",
       "        </tr>\n",
       "    </tbody>\n",
       "        <tr>\n",
       "            <td>5   </td> <td>6   </td>\n",
       "        </tr>\n",
       "    </tbody>\n",
       "        <tr>\n",
       "            <td>7   </td> <td>8   </td>\n",
       "        </tr>\n",
       "    </tbody>\n",
       "</table>"
      ],
      "text/plain": [
       "Odd  | Even\n",
       "3    | 4\n",
       "5    | 6\n",
       "7    | 8"
      ]
     },
     "execution_count": 4,
     "metadata": {},
     "output_type": "execute_result"
    }
   ],
   "source": [
    "Table(['Odd', 'Even']).with_rows([[3, 4], [5, 6], [7, 8]])"
   ]
  },
  {
   "cell_type": "markdown",
   "metadata": {},
   "source": [
    "Tables can also be extended with additional columns. The `with_column` and `with_columns` methods return new tables with additional labeled columns. Below, we begin each example with an empty table that has no columns."
   ]
  },
  {
   "cell_type": "code",
   "execution_count": 5,
   "metadata": {
    "collapsed": false
   },
   "outputs": [
    {
     "data": {
      "text/html": [
       "<table border=\"1\" class=\"dataframe\">\n",
       "    <thead>\n",
       "        <tr>\n",
       "            <th>Odd</th>\n",
       "        </tr>\n",
       "    </thead>\n",
       "    <tbody>\n",
       "        <tr>\n",
       "            <td>3   </td>\n",
       "        </tr>\n",
       "    </tbody>\n",
       "        <tr>\n",
       "            <td>5   </td>\n",
       "        </tr>\n",
       "    </tbody>\n",
       "        <tr>\n",
       "            <td>7   </td>\n",
       "        </tr>\n",
       "    </tbody>\n",
       "</table>"
      ],
      "text/plain": [
       "Odd\n",
       "3\n",
       "5\n",
       "7"
      ]
     },
     "execution_count": 5,
     "metadata": {},
     "output_type": "execute_result"
    }
   ],
   "source": [
    "Table().with_column('Odd', [3, 5, 7])"
   ]
  },
  {
   "cell_type": "code",
   "execution_count": 6,
   "metadata": {
    "collapsed": false
   },
   "outputs": [
    {
     "data": {
      "text/html": [
       "<table border=\"1\" class=\"dataframe\">\n",
       "    <thead>\n",
       "        <tr>\n",
       "            <th>Odd</th> <th>Even</th>\n",
       "        </tr>\n",
       "    </thead>\n",
       "    <tbody>\n",
       "        <tr>\n",
       "            <td>3   </td> <td>4   </td>\n",
       "        </tr>\n",
       "    </tbody>\n",
       "        <tr>\n",
       "            <td>5   </td> <td>6   </td>\n",
       "        </tr>\n",
       "    </tbody>\n",
       "        <tr>\n",
       "            <td>7   </td> <td>8   </td>\n",
       "        </tr>\n",
       "    </tbody>\n",
       "</table>"
      ],
      "text/plain": [
       "Odd  | Even\n",
       "3    | 4\n",
       "5    | 6\n",
       "7    | 8"
      ]
     },
     "execution_count": 6,
     "metadata": {},
     "output_type": "execute_result"
    }
   ],
   "source": [
    "Table().with_columns([\n",
    "        'Odd',  [3, 5, 7],\n",
    "        'Even', [4, 6, 8]\n",
    "    ])"
   ]
  },
  {
   "cell_type": "markdown",
   "metadata": {},
   "source": [
    "Tables are more typically created from files that contain comma-separated values, called CSV files. The file below contains \"Annual Estimates of the Resident Population by Single Year of Age and Sex for the United States.\" "
   ]
  },
  {
   "cell_type": "code",
   "execution_count": 7,
   "metadata": {
    "collapsed": false
   },
   "outputs": [
    {
     "data": {
      "text/html": [
       "<table border=\"1\" class=\"dataframe\">\n",
       "    <thead>\n",
       "        <tr>\n",
       "            <th>SEX</th> <th>AGE</th> <th>CENSUS2010POP</th> <th>ESTIMATESBASE2010</th> <th>POPESTIMATE2010</th> <th>POPESTIMATE2011</th> <th>POPESTIMATE2012</th> <th>POPESTIMATE2013</th> <th>POPESTIMATE2014</th>\n",
       "        </tr>\n",
       "    </thead>\n",
       "    <tbody>\n",
       "        <tr>\n",
       "            <td>0   </td> <td>0   </td> <td>3944153      </td> <td>3944160          </td> <td>3951330        </td> <td>3963071        </td> <td>3926665        </td> <td>3945610        </td> <td>3948350        </td>\n",
       "        </tr>\n",
       "    </tbody>\n",
       "        <tr>\n",
       "            <td>0   </td> <td>1   </td> <td>3978070      </td> <td>3978090          </td> <td>3957888        </td> <td>3966510        </td> <td>3978006        </td> <td>3943077        </td> <td>3962123        </td>\n",
       "        </tr>\n",
       "    </tbody>\n",
       "        <tr>\n",
       "            <td>0   </td> <td>2   </td> <td>4096929      </td> <td>4096939          </td> <td>4090862        </td> <td>3971573        </td> <td>3979952        </td> <td>3992690        </td> <td>3957772        </td>\n",
       "        </tr>\n",
       "    </tbody>\n",
       "        <tr>\n",
       "            <td>0   </td> <td>3   </td> <td>4119040      </td> <td>4119051          </td> <td>4111920        </td> <td>4102501        </td> <td>3983049        </td> <td>3992425        </td> <td>4005190        </td>\n",
       "        </tr>\n",
       "    </tbody>\n",
       "        <tr>\n",
       "            <td>0   </td> <td>4   </td> <td>4063170      </td> <td>4063186          </td> <td>4077552        </td> <td>4122303        </td> <td>4112638        </td> <td>3994047        </td> <td>4003448        </td>\n",
       "        </tr>\n",
       "    </tbody>\n",
       "        <tr>\n",
       "            <td>0   </td> <td>5   </td> <td>4056858      </td> <td>4056872          </td> <td>4064653        </td> <td>4087713        </td> <td>4132210        </td> <td>4123408        </td> <td>4004858        </td>\n",
       "        </tr>\n",
       "    </tbody>\n",
       "        <tr>\n",
       "            <td>0   </td> <td>6   </td> <td>4066381      </td> <td>4066412          </td> <td>4073013        </td> <td>4074979        </td> <td>4097780        </td> <td>4143094        </td> <td>4134352        </td>\n",
       "        </tr>\n",
       "    </tbody>\n",
       "        <tr>\n",
       "            <td>0   </td> <td>7   </td> <td>4030579      </td> <td>4030594          </td> <td>4043047        </td> <td>4083240        </td> <td>4084964        </td> <td>4108615        </td> <td>4154000        </td>\n",
       "        </tr>\n",
       "    </tbody>\n",
       "        <tr>\n",
       "            <td>0   </td> <td>8   </td> <td>4046486      </td> <td>4046497          </td> <td>4025604        </td> <td>4053206        </td> <td>4093213        </td> <td>4095827        </td> <td>4119524        </td>\n",
       "        </tr>\n",
       "    </tbody>\n",
       "        <tr>\n",
       "            <td>0   </td> <td>9   </td> <td>4148353      </td> <td>4148369          </td> <td>4125415        </td> <td>4035769        </td> <td>4063193        </td> <td>4104133        </td> <td>4106832        </td>\n",
       "        </tr>\n",
       "    </tbody>\n",
       "</table>\n",
       "<p>... (296 rows omitted)</p"
      ],
      "text/plain": [
       "SEX  | AGE  | CENSUS2010POP | ESTIMATESBASE2010 | POPESTIMATE2010 | POPESTIMATE2011 | POPESTIMATE2012 | POPESTIMATE2013 | POPESTIMATE2014\n",
       "0    | 0    | 3944153       | 3944160           | 3951330         | 3963071         | 3926665         | 3945610         | 3948350\n",
       "0    | 1    | 3978070       | 3978090           | 3957888         | 3966510         | 3978006         | 3943077         | 3962123\n",
       "0    | 2    | 4096929       | 4096939           | 4090862         | 3971573         | 3979952         | 3992690         | 3957772\n",
       "0    | 3    | 4119040       | 4119051           | 4111920         | 4102501         | 3983049         | 3992425         | 4005190\n",
       "0    | 4    | 4063170       | 4063186           | 4077552         | 4122303         | 4112638         | 3994047         | 4003448\n",
       "0    | 5    | 4056858       | 4056872           | 4064653         | 4087713         | 4132210         | 4123408         | 4004858\n",
       "0    | 6    | 4066381       | 4066412           | 4073013         | 4074979         | 4097780         | 4143094         | 4134352\n",
       "0    | 7    | 4030579       | 4030594           | 4043047         | 4083240         | 4084964         | 4108615         | 4154000\n",
       "0    | 8    | 4046486       | 4046497           | 4025604         | 4053206         | 4093213         | 4095827         | 4119524\n",
       "0    | 9    | 4148353       | 4148369           | 4125415         | 4035769         | 4063193         | 4104133         | 4106832\n",
       "... (296 rows omitted)"
      ]
     },
     "execution_count": 7,
     "metadata": {},
     "output_type": "execute_result"
    }
   ],
   "source": [
    "census_url = 'http://www.census.gov/popest/data/national/asrh/2014/files/NC-EST2014-AGESEX-RES.csv'\n",
    "full_census_table = Table.read_table(census_url)\n",
    "full_census_table"
   ]
  },
  {
   "cell_type": "markdown",
   "metadata": {},
   "source": [
    "A [description of the table](http://www.census.gov/popest/data/national/asrh/2014/files/NC-EST2014-AGESEX-RES.pdf) appears online. The `SEX` column contains numeric codes: `0` stands for the total, `1` for male, and `2` for female. The `AGE` column contains ages, but the special value `999` is a sum of the total population. The rest of the columns contain estimates of the US population.\n",
    "\n",
    "Typically, a public table will contain more information than necessary for a particular investigation or analysis. In this case, let us suppose that we are only interested in the population changes from 2010 to 2014. We can select only a subset of the columns using the `select` method."
   ]
  },
  {
   "cell_type": "code",
   "execution_count": 8,
   "metadata": {
    "collapsed": false
   },
   "outputs": [
    {
     "data": {
      "text/html": [
       "<table border=\"1\" class=\"dataframe\">\n",
       "    <thead>\n",
       "        <tr>\n",
       "            <th>SEX</th> <th>AGE</th> <th>POPESTIMATE2010</th> <th>POPESTIMATE2014</th>\n",
       "        </tr>\n",
       "    </thead>\n",
       "    <tbody>\n",
       "        <tr>\n",
       "            <td>0   </td> <td>0   </td> <td>3951330        </td> <td>3948350        </td>\n",
       "        </tr>\n",
       "    </tbody>\n",
       "        <tr>\n",
       "            <td>0   </td> <td>1   </td> <td>3957888        </td> <td>3962123        </td>\n",
       "        </tr>\n",
       "    </tbody>\n",
       "        <tr>\n",
       "            <td>0   </td> <td>2   </td> <td>4090862        </td> <td>3957772        </td>\n",
       "        </tr>\n",
       "    </tbody>\n",
       "        <tr>\n",
       "            <td>0   </td> <td>3   </td> <td>4111920        </td> <td>4005190        </td>\n",
       "        </tr>\n",
       "    </tbody>\n",
       "        <tr>\n",
       "            <td>0   </td> <td>4   </td> <td>4077552        </td> <td>4003448        </td>\n",
       "        </tr>\n",
       "    </tbody>\n",
       "        <tr>\n",
       "            <td>0   </td> <td>5   </td> <td>4064653        </td> <td>4004858        </td>\n",
       "        </tr>\n",
       "    </tbody>\n",
       "        <tr>\n",
       "            <td>0   </td> <td>6   </td> <td>4073013        </td> <td>4134352        </td>\n",
       "        </tr>\n",
       "    </tbody>\n",
       "        <tr>\n",
       "            <td>0   </td> <td>7   </td> <td>4043047        </td> <td>4154000        </td>\n",
       "        </tr>\n",
       "    </tbody>\n",
       "        <tr>\n",
       "            <td>0   </td> <td>8   </td> <td>4025604        </td> <td>4119524        </td>\n",
       "        </tr>\n",
       "    </tbody>\n",
       "        <tr>\n",
       "            <td>0   </td> <td>9   </td> <td>4125415        </td> <td>4106832        </td>\n",
       "        </tr>\n",
       "    </tbody>\n",
       "</table>\n",
       "<p>... (296 rows omitted)</p"
      ],
      "text/plain": [
       "SEX  | AGE  | POPESTIMATE2010 | POPESTIMATE2014\n",
       "0    | 0    | 3951330         | 3948350\n",
       "0    | 1    | 3957888         | 3962123\n",
       "0    | 2    | 4090862         | 3957772\n",
       "0    | 3    | 4111920         | 4005190\n",
       "0    | 4    | 4077552         | 4003448\n",
       "0    | 5    | 4064653         | 4004858\n",
       "0    | 6    | 4073013         | 4134352\n",
       "0    | 7    | 4043047         | 4154000\n",
       "0    | 8    | 4025604         | 4119524\n",
       "0    | 9    | 4125415         | 4106832\n",
       "... (296 rows omitted)"
      ]
     },
     "execution_count": 8,
     "metadata": {},
     "output_type": "execute_result"
    }
   ],
   "source": [
    "partial_census_table = full_census_table.select(['SEX', 'AGE', 'POPESTIMATE2010', 'POPESTIMATE2014'])\n",
    "partial_census_table"
   ]
  },
  {
   "cell_type": "markdown",
   "metadata": {},
   "source": [
    "The `relabeled` method creates an alternative version of the table that replaces a column lable. Using this method, we can simplify the labels of the selected columns."
   ]
  },
  {
   "cell_type": "code",
   "execution_count": 9,
   "metadata": {
    "collapsed": false
   },
   "outputs": [
    {
     "data": {
      "text/html": [
       "<table border=\"1\" class=\"dataframe\">\n",
       "    <thead>\n",
       "        <tr>\n",
       "            <th>SEX</th> <th>AGE</th> <th>2010</th> <th>2014</th>\n",
       "        </tr>\n",
       "    </thead>\n",
       "    <tbody>\n",
       "        <tr>\n",
       "            <td>0   </td> <td>0   </td> <td>3951330</td> <td>3948350</td>\n",
       "        </tr>\n",
       "    </tbody>\n",
       "        <tr>\n",
       "            <td>0   </td> <td>1   </td> <td>3957888</td> <td>3962123</td>\n",
       "        </tr>\n",
       "    </tbody>\n",
       "        <tr>\n",
       "            <td>0   </td> <td>2   </td> <td>4090862</td> <td>3957772</td>\n",
       "        </tr>\n",
       "    </tbody>\n",
       "        <tr>\n",
       "            <td>0   </td> <td>3   </td> <td>4111920</td> <td>4005190</td>\n",
       "        </tr>\n",
       "    </tbody>\n",
       "        <tr>\n",
       "            <td>0   </td> <td>4   </td> <td>4077552</td> <td>4003448</td>\n",
       "        </tr>\n",
       "    </tbody>\n",
       "        <tr>\n",
       "            <td>0   </td> <td>5   </td> <td>4064653</td> <td>4004858</td>\n",
       "        </tr>\n",
       "    </tbody>\n",
       "        <tr>\n",
       "            <td>0   </td> <td>6   </td> <td>4073013</td> <td>4134352</td>\n",
       "        </tr>\n",
       "    </tbody>\n",
       "        <tr>\n",
       "            <td>0   </td> <td>7   </td> <td>4043047</td> <td>4154000</td>\n",
       "        </tr>\n",
       "    </tbody>\n",
       "        <tr>\n",
       "            <td>0   </td> <td>8   </td> <td>4025604</td> <td>4119524</td>\n",
       "        </tr>\n",
       "    </tbody>\n",
       "        <tr>\n",
       "            <td>0   </td> <td>9   </td> <td>4125415</td> <td>4106832</td>\n",
       "        </tr>\n",
       "    </tbody>\n",
       "</table>\n",
       "<p>... (296 rows omitted)</p"
      ],
      "text/plain": [
       "SEX  | AGE  | 2010    | 2014\n",
       "0    | 0    | 3951330 | 3948350\n",
       "0    | 1    | 3957888 | 3962123\n",
       "0    | 2    | 4090862 | 3957772\n",
       "0    | 3    | 4111920 | 4005190\n",
       "0    | 4    | 4077552 | 4003448\n",
       "0    | 5    | 4064653 | 4004858\n",
       "0    | 6    | 4073013 | 4134352\n",
       "0    | 7    | 4043047 | 4154000\n",
       "0    | 8    | 4025604 | 4119524\n",
       "0    | 9    | 4125415 | 4106832\n",
       "... (296 rows omitted)"
      ]
     },
     "execution_count": 9,
     "metadata": {},
     "output_type": "execute_result"
    }
   ],
   "source": [
    "simple = partial_census_table.relabeled('POPESTIMATE2010', '2010').relabeled('POPESTIMATE2014', '2014')\n",
    "simple"
   ]
  },
  {
   "cell_type": "markdown",
   "metadata": {},
   "source": [
    "The `column` method returns an array of the values in a particular column. Each column of a table is an array of the same length, and so columns can be combined using arithmetic."
   ]
  },
  {
   "cell_type": "code",
   "execution_count": 10,
   "metadata": {
    "collapsed": false
   },
   "outputs": [
    {
     "data": {
      "text/plain": [
       "array([  -2980,    4235, -133090, ...,    6717,   13410, 4662996])"
      ]
     },
     "execution_count": 10,
     "metadata": {},
     "output_type": "execute_result"
    }
   ],
   "source": [
    "simple.column('2014') - simple.column('2010')"
   ]
  },
  {
   "cell_type": "markdown",
   "metadata": {},
   "source": [
    "A table with an additional column can be created from an existing table using the `with_column` method, which takes a label and a sequence of values as arguments. There must be either as many values as there are existing rows in the table or a single value (which fills the column with that value)."
   ]
  },
  {
   "cell_type": "code",
   "execution_count": 11,
   "metadata": {
    "collapsed": false
   },
   "outputs": [
    {
     "data": {
      "text/html": [
       "<table border=\"1\" class=\"dataframe\">\n",
       "    <thead>\n",
       "        <tr>\n",
       "            <th>SEX</th> <th>AGE</th> <th>2010</th> <th>2014</th> <th>Change</th> <th>Growth</th>\n",
       "        </tr>\n",
       "    </thead>\n",
       "    <tbody>\n",
       "        <tr>\n",
       "            <td>0   </td> <td>0   </td> <td>3951330</td> <td>3948350</td> <td>-2980  </td> <td>-0.000188597</td>\n",
       "        </tr>\n",
       "    </tbody>\n",
       "        <tr>\n",
       "            <td>0   </td> <td>1   </td> <td>3957888</td> <td>3962123</td> <td>4235   </td> <td>0.000267397 </td>\n",
       "        </tr>\n",
       "    </tbody>\n",
       "        <tr>\n",
       "            <td>0   </td> <td>2   </td> <td>4090862</td> <td>3957772</td> <td>-133090</td> <td>-0.00823453 </td>\n",
       "        </tr>\n",
       "    </tbody>\n",
       "        <tr>\n",
       "            <td>0   </td> <td>3   </td> <td>4111920</td> <td>4005190</td> <td>-106730</td> <td>-0.0065532  </td>\n",
       "        </tr>\n",
       "    </tbody>\n",
       "        <tr>\n",
       "            <td>0   </td> <td>4   </td> <td>4077552</td> <td>4003448</td> <td>-74104 </td> <td>-0.00457471 </td>\n",
       "        </tr>\n",
       "    </tbody>\n",
       "        <tr>\n",
       "            <td>0   </td> <td>5   </td> <td>4064653</td> <td>4004858</td> <td>-59795 </td> <td>-0.00369821 </td>\n",
       "        </tr>\n",
       "    </tbody>\n",
       "        <tr>\n",
       "            <td>0   </td> <td>6   </td> <td>4073013</td> <td>4134352</td> <td>61339  </td> <td>0.00374389  </td>\n",
       "        </tr>\n",
       "    </tbody>\n",
       "        <tr>\n",
       "            <td>0   </td> <td>7   </td> <td>4043047</td> <td>4154000</td> <td>110953 </td> <td>0.00679123  </td>\n",
       "        </tr>\n",
       "    </tbody>\n",
       "        <tr>\n",
       "            <td>0   </td> <td>8   </td> <td>4025604</td> <td>4119524</td> <td>93920  </td> <td>0.00578232  </td>\n",
       "        </tr>\n",
       "    </tbody>\n",
       "        <tr>\n",
       "            <td>0   </td> <td>9   </td> <td>4125415</td> <td>4106832</td> <td>-18583 </td> <td>-0.00112804 </td>\n",
       "        </tr>\n",
       "    </tbody>\n",
       "</table>\n",
       "<p>... (296 rows omitted)</p"
      ],
      "text/plain": [
       "SEX  | AGE  | 2010    | 2014    | Change  | Growth\n",
       "0    | 0    | 3951330 | 3948350 | -2980   | -0.000188597\n",
       "0    | 1    | 3957888 | 3962123 | 4235    | 0.000267397\n",
       "0    | 2    | 4090862 | 3957772 | -133090 | -0.00823453\n",
       "0    | 3    | 4111920 | 4005190 | -106730 | -0.0065532\n",
       "0    | 4    | 4077552 | 4003448 | -74104  | -0.00457471\n",
       "0    | 5    | 4064653 | 4004858 | -59795  | -0.00369821\n",
       "0    | 6    | 4073013 | 4134352 | 61339   | 0.00374389\n",
       "0    | 7    | 4043047 | 4154000 | 110953  | 0.00679123\n",
       "0    | 8    | 4025604 | 4119524 | 93920   | 0.00578232\n",
       "0    | 9    | 4125415 | 4106832 | -18583  | -0.00112804\n",
       "... (296 rows omitted)"
      ]
     },
     "execution_count": 11,
     "metadata": {},
     "output_type": "execute_result"
    }
   ],
   "source": [
    "change = simple.column('2014') - simple.column('2010')\n",
    "annual_growth_rate = (simple.column('2014') / simple.column('2010')) ** (1/4) - 1\n",
    "census = simple.with_columns(['Change', change, 'Growth', annual_growth_rate])\n",
    "census"
   ]
  },
  {
   "cell_type": "markdown",
   "metadata": {},
   "source": [
    "Although the columns of this table are simply arrays of numbers, the format of those numbers can be changed to improve the interpretability of the table. The `set_format` method takes `Formatter` objects, which exist for dates (`DateFormatter`), currencies (`CurrencyFormatter`), numbers, and percentages."
   ]
  },
  {
   "cell_type": "code",
   "execution_count": 12,
   "metadata": {
    "collapsed": false
   },
   "outputs": [
    {
     "data": {
      "text/html": [
       "<table border=\"1\" class=\"dataframe\">\n",
       "    <thead>\n",
       "        <tr>\n",
       "            <th>SEX</th> <th>AGE</th> <th>2010</th> <th>2014</th> <th>Change</th> <th>Growth</th>\n",
       "        </tr>\n",
       "    </thead>\n",
       "    <tbody>\n",
       "        <tr>\n",
       "            <td>0   </td> <td>0   </td> <td>3,951,330  </td> <td>3,948,350  </td> <td>-2,980   </td> <td>-0.02%</td>\n",
       "        </tr>\n",
       "    </tbody>\n",
       "        <tr>\n",
       "            <td>0   </td> <td>1   </td> <td>3,957,888  </td> <td>3,962,123  </td> <td>4,235    </td> <td>0.03% </td>\n",
       "        </tr>\n",
       "    </tbody>\n",
       "        <tr>\n",
       "            <td>0   </td> <td>2   </td> <td>4,090,862  </td> <td>3,957,772  </td> <td>-133,090 </td> <td>-0.82%</td>\n",
       "        </tr>\n",
       "    </tbody>\n",
       "        <tr>\n",
       "            <td>0   </td> <td>3   </td> <td>4,111,920  </td> <td>4,005,190  </td> <td>-106,730 </td> <td>-0.66%</td>\n",
       "        </tr>\n",
       "    </tbody>\n",
       "        <tr>\n",
       "            <td>0   </td> <td>4   </td> <td>4,077,552  </td> <td>4,003,448  </td> <td>-74,104  </td> <td>-0.46%</td>\n",
       "        </tr>\n",
       "    </tbody>\n",
       "        <tr>\n",
       "            <td>0   </td> <td>5   </td> <td>4,064,653  </td> <td>4,004,858  </td> <td>-59,795  </td> <td>-0.37%</td>\n",
       "        </tr>\n",
       "    </tbody>\n",
       "        <tr>\n",
       "            <td>0   </td> <td>6   </td> <td>4,073,013  </td> <td>4,134,352  </td> <td>61,339   </td> <td>0.37% </td>\n",
       "        </tr>\n",
       "    </tbody>\n",
       "        <tr>\n",
       "            <td>0   </td> <td>7   </td> <td>4,043,047  </td> <td>4,154,000  </td> <td>110,953  </td> <td>0.68% </td>\n",
       "        </tr>\n",
       "    </tbody>\n",
       "        <tr>\n",
       "            <td>0   </td> <td>8   </td> <td>4,025,604  </td> <td>4,119,524  </td> <td>93,920   </td> <td>0.58% </td>\n",
       "        </tr>\n",
       "    </tbody>\n",
       "        <tr>\n",
       "            <td>0   </td> <td>9   </td> <td>4,125,415  </td> <td>4,106,832  </td> <td>-18,583  </td> <td>-0.11%</td>\n",
       "        </tr>\n",
       "    </tbody>\n",
       "</table>\n",
       "<p>... (296 rows omitted)</p"
      ],
      "text/plain": [
       "SEX  | AGE  | 2010        | 2014        | Change    | Growth\n",
       "0    | 0    | 3,951,330   | 3,948,350   | -2,980    | -0.02%\n",
       "0    | 1    | 3,957,888   | 3,962,123   | 4,235     | 0.03%\n",
       "0    | 2    | 4,090,862   | 3,957,772   | -133,090  | -0.82%\n",
       "0    | 3    | 4,111,920   | 4,005,190   | -106,730  | -0.66%\n",
       "0    | 4    | 4,077,552   | 4,003,448   | -74,104   | -0.46%\n",
       "0    | 5    | 4,064,653   | 4,004,858   | -59,795   | -0.37%\n",
       "0    | 6    | 4,073,013   | 4,134,352   | 61,339    | 0.37%\n",
       "0    | 7    | 4,043,047   | 4,154,000   | 110,953   | 0.68%\n",
       "0    | 8    | 4,025,604   | 4,119,524   | 93,920    | 0.58%\n",
       "0    | 9    | 4,125,415   | 4,106,832   | -18,583   | -0.11%\n",
       "... (296 rows omitted)"
      ]
     },
     "execution_count": 12,
     "metadata": {},
     "output_type": "execute_result"
    }
   ],
   "source": [
    "census.set_format('Growth', PercentFormatter)\n",
    "census.set_format(['2010', '2014', 'Change'], NumberFormatter)"
   ]
  },
  {
   "cell_type": "markdown",
   "metadata": {},
   "source": [
    "The information in a table can be accessed in many ways. The attributes demonstrated below can be used for any table."
   ]
  },
  {
   "cell_type": "code",
   "execution_count": 13,
   "metadata": {
    "collapsed": false
   },
   "outputs": [
    {
     "data": {
      "text/plain": [
       "('SEX', 'AGE', '2010', '2014', 'Change', 'Growth')"
      ]
     },
     "execution_count": 13,
     "metadata": {},
     "output_type": "execute_result"
    }
   ],
   "source": [
    "census.labels"
   ]
  },
  {
   "cell_type": "code",
   "execution_count": 14,
   "metadata": {
    "collapsed": false
   },
   "outputs": [
    {
     "data": {
      "text/plain": [
       "6"
      ]
     },
     "execution_count": 14,
     "metadata": {},
     "output_type": "execute_result"
    }
   ],
   "source": [
    "census.num_columns"
   ]
  },
  {
   "cell_type": "code",
   "execution_count": 15,
   "metadata": {
    "collapsed": false
   },
   "outputs": [
    {
     "data": {
      "text/plain": [
       "306"
      ]
     },
     "execution_count": 15,
     "metadata": {},
     "output_type": "execute_result"
    }
   ],
   "source": [
    "census.num_rows"
   ]
  },
  {
   "cell_type": "code",
   "execution_count": 16,
   "metadata": {
    "collapsed": false
   },
   "outputs": [
    {
     "data": {
      "text/plain": [
       "Row(SEX=0, AGE=5, 2010=4064653, 2014=4004858, Change=-59795, Growth=-0.0036982077956316806)"
      ]
     },
     "execution_count": 16,
     "metadata": {},
     "output_type": "execute_result"
    }
   ],
   "source": [
    "census.row(5)"
   ]
  },
  {
   "cell_type": "code",
   "execution_count": 17,
   "metadata": {
    "collapsed": false
   },
   "outputs": [
    {
     "data": {
      "text/plain": [
       "array([  3951330,   3957888,   4090862, ...,     26074,     45058,\n",
       "       157257573])"
      ]
     },
     "execution_count": 17,
     "metadata": {},
     "output_type": "execute_result"
    }
   ],
   "source": [
    "census.column(2)"
   ]
  },
  {
   "cell_type": "markdown",
   "metadata": {},
   "source": [
    "An individual item in a table can be accessed via a row or a column."
   ]
  },
  {
   "cell_type": "code",
   "execution_count": 18,
   "metadata": {
    "collapsed": false
   },
   "outputs": [
    {
     "data": {
      "text/plain": [
       "3951330"
      ]
     },
     "execution_count": 18,
     "metadata": {},
     "output_type": "execute_result"
    }
   ],
   "source": [
    "census.row(0).item(2)"
   ]
  },
  {
   "cell_type": "code",
   "execution_count": 19,
   "metadata": {
    "collapsed": false
   },
   "outputs": [
    {
     "data": {
      "text/plain": [
       "3951330"
      ]
     },
     "execution_count": 19,
     "metadata": {},
     "output_type": "execute_result"
    }
   ],
   "source": [
    "census.column(2).item(0)"
   ]
  },
  {
   "cell_type": "markdown",
   "metadata": {},
   "source": [
    "Let's take a look at the growth rates of the total number of males and females by selecting only the *rows* that sum over all ages. This sum is expressed with the special value `999` according to this data set description."
   ]
  },
  {
   "cell_type": "code",
   "execution_count": 20,
   "metadata": {
    "collapsed": false
   },
   "outputs": [
    {
     "data": {
      "text/html": [
       "<table border=\"1\" class=\"dataframe\">\n",
       "    <thead>\n",
       "        <tr>\n",
       "            <th>SEX</th> <th>AGE</th> <th>2010</th> <th>2014</th> <th>Change</th> <th>Growth</th>\n",
       "        </tr>\n",
       "    </thead>\n",
       "    <tbody>\n",
       "        <tr>\n",
       "            <td>0   </td> <td>999 </td> <td>309,347,057</td> <td>318,857,056</td> <td>9,509,999</td> <td>0.76% </td>\n",
       "        </tr>\n",
       "    </tbody>\n",
       "        <tr>\n",
       "            <td>1   </td> <td>999 </td> <td>152,089,484</td> <td>156,936,487</td> <td>4,847,003</td> <td>0.79% </td>\n",
       "        </tr>\n",
       "    </tbody>\n",
       "        <tr>\n",
       "            <td>2   </td> <td>999 </td> <td>157,257,573</td> <td>161,920,569</td> <td>4,662,996</td> <td>0.73% </td>\n",
       "        </tr>\n",
       "    </tbody>\n",
       "</table>"
      ],
      "text/plain": [
       "SEX  | AGE  | 2010        | 2014        | Change    | Growth\n",
       "0    | 999  | 309,347,057 | 318,857,056 | 9,509,999 | 0.76%\n",
       "1    | 999  | 152,089,484 | 156,936,487 | 4,847,003 | 0.79%\n",
       "2    | 999  | 157,257,573 | 161,920,569 | 4,662,996 | 0.73%"
      ]
     },
     "execution_count": 20,
     "metadata": {},
     "output_type": "execute_result"
    }
   ],
   "source": [
    "census.where('AGE', 999)"
   ]
  },
  {
   "cell_type": "markdown",
   "metadata": {},
   "source": [
    "What ages of males are driving this rapid growth? We can first filter the `census` table to keep only the male entries, then sort by growth rate in decreasing order."
   ]
  },
  {
   "cell_type": "code",
   "execution_count": 21,
   "metadata": {
    "collapsed": false
   },
   "outputs": [
    {
     "data": {
      "text/html": [
       "<table border=\"1\" class=\"dataframe\">\n",
       "    <thead>\n",
       "        <tr>\n",
       "            <th>SEX</th> <th>AGE</th> <th>2010</th> <th>2014</th> <th>Change</th> <th>Growth</th>\n",
       "        </tr>\n",
       "    </thead>\n",
       "    <tbody>\n",
       "        <tr>\n",
       "            <td>1   </td> <td>99  </td> <td>6,104      </td> <td>9,037      </td> <td>2,933    </td> <td>10.31%</td>\n",
       "        </tr>\n",
       "    </tbody>\n",
       "        <tr>\n",
       "            <td>1   </td> <td>100 </td> <td>9,351      </td> <td>13,729     </td> <td>4,378    </td> <td>10.08%</td>\n",
       "        </tr>\n",
       "    </tbody>\n",
       "        <tr>\n",
       "            <td>1   </td> <td>98  </td> <td>9,504      </td> <td>13,649     </td> <td>4,145    </td> <td>9.47% </td>\n",
       "        </tr>\n",
       "    </tbody>\n",
       "        <tr>\n",
       "            <td>1   </td> <td>93  </td> <td>60,182     </td> <td>85,980     </td> <td>25,798   </td> <td>9.33% </td>\n",
       "        </tr>\n",
       "    </tbody>\n",
       "        <tr>\n",
       "            <td>1   </td> <td>96  </td> <td>22,022     </td> <td>31,235     </td> <td>9,213    </td> <td>9.13% </td>\n",
       "        </tr>\n",
       "    </tbody>\n",
       "        <tr>\n",
       "            <td>1   </td> <td>94  </td> <td>43,828     </td> <td>62,130     </td> <td>18,302   </td> <td>9.12% </td>\n",
       "        </tr>\n",
       "    </tbody>\n",
       "        <tr>\n",
       "            <td>1   </td> <td>97  </td> <td>14,775     </td> <td>20,479     </td> <td>5,704    </td> <td>8.50% </td>\n",
       "        </tr>\n",
       "    </tbody>\n",
       "        <tr>\n",
       "            <td>1   </td> <td>95  </td> <td>31,736     </td> <td>42,824     </td> <td>11,088   </td> <td>7.78% </td>\n",
       "        </tr>\n",
       "    </tbody>\n",
       "        <tr>\n",
       "            <td>1   </td> <td>91  </td> <td>104,291    </td> <td>138,080    </td> <td>33,789   </td> <td>7.27% </td>\n",
       "        </tr>\n",
       "    </tbody>\n",
       "        <tr>\n",
       "            <td>1   </td> <td>92  </td> <td>83,462     </td> <td>109,873    </td> <td>26,411   </td> <td>7.12% </td>\n",
       "        </tr>\n",
       "    </tbody>\n",
       "</table>\n",
       "<p>... (92 rows omitted)</p"
      ],
      "text/plain": [
       "SEX  | AGE  | 2010        | 2014        | Change    | Growth\n",
       "1    | 99   | 6,104       | 9,037       | 2,933     | 10.31%\n",
       "1    | 100  | 9,351       | 13,729      | 4,378     | 10.08%\n",
       "1    | 98   | 9,504       | 13,649      | 4,145     | 9.47%\n",
       "1    | 93   | 60,182      | 85,980      | 25,798    | 9.33%\n",
       "1    | 96   | 22,022      | 31,235      | 9,213     | 9.13%\n",
       "1    | 94   | 43,828      | 62,130      | 18,302    | 9.12%\n",
       "1    | 97   | 14,775      | 20,479      | 5,704     | 8.50%\n",
       "1    | 95   | 31,736      | 42,824      | 11,088    | 7.78%\n",
       "1    | 91   | 104,291     | 138,080     | 33,789    | 7.27%\n",
       "1    | 92   | 83,462      | 109,873     | 26,411    | 7.12%\n",
       "... (92 rows omitted)"
      ]
     },
     "execution_count": 21,
     "metadata": {},
     "output_type": "execute_result"
    }
   ],
   "source": [
    "males = census.where('SEX', 1)\n",
    "males.sort('Growth', descending=True)"
   ]
  },
  {
   "cell_type": "markdown",
   "metadata": {},
   "source": [
    "The fact that there are more men with `AGE` of 100 than 99 looks suspicious; shouldn't there be fewer? A careful look at the description of the data set reveals that the 100 category actually includes all men who are 100 or older. The growth rates in men at these very old ages could have several explanations, such as a large influx from another country, but the most natural explanation is that people are simply living longer in 2014 than 2010.\n",
    "\n",
    "The `where` method can also take an array of boolean values, constructed by applying some comparison operator to a column of the table. For example, we can find all of the age groups among males for which the absolute `Change` is substantial. The `show` method displays all rows without abbreviating."
   ]
  },
  {
   "cell_type": "code",
   "execution_count": 22,
   "metadata": {
    "collapsed": false
   },
   "outputs": [
    {
     "data": {
      "text/html": [
       "<table border=\"1\" class=\"dataframe\">\n",
       "    <thead>\n",
       "        <tr>\n",
       "            <th>SEX</th> <th>AGE</th> <th>2010</th> <th>2014</th> <th>Change</th> <th>Growth</th>\n",
       "        </tr>\n",
       "    </thead>\n",
       "    <tbody>\n",
       "        <tr>\n",
       "            <td>1   </td> <td>23  </td> <td>2,151,095  </td> <td>2,399,883  </td> <td>248,788  </td> <td>2.77% </td>\n",
       "        </tr>\n",
       "    </tbody>\n",
       "        <tr>\n",
       "            <td>1   </td> <td>24  </td> <td>2,161,380  </td> <td>2,391,398  </td> <td>230,018  </td> <td>2.56% </td>\n",
       "        </tr>\n",
       "    </tbody>\n",
       "        <tr>\n",
       "            <td>1   </td> <td>34  </td> <td>1,908,761  </td> <td>2,192,455  </td> <td>283,694  </td> <td>3.52% </td>\n",
       "        </tr>\n",
       "    </tbody>\n",
       "        <tr>\n",
       "            <td>1   </td> <td>57  </td> <td>1,910,028  </td> <td>2,110,149  </td> <td>200,121  </td> <td>2.52% </td>\n",
       "        </tr>\n",
       "    </tbody>\n",
       "        <tr>\n",
       "            <td>1   </td> <td>59  </td> <td>1,779,504  </td> <td>2,006,900  </td> <td>227,396  </td> <td>3.05% </td>\n",
       "        </tr>\n",
       "    </tbody>\n",
       "        <tr>\n",
       "            <td>1   </td> <td>64  </td> <td>1,291,843  </td> <td>1,661,474  </td> <td>369,631  </td> <td>6.49% </td>\n",
       "        </tr>\n",
       "    </tbody>\n",
       "        <tr>\n",
       "            <td>1   </td> <td>65  </td> <td>1,272,693  </td> <td>1,607,688  </td> <td>334,995  </td> <td>6.02% </td>\n",
       "        </tr>\n",
       "    </tbody>\n",
       "        <tr>\n",
       "            <td>1   </td> <td>66  </td> <td>1,239,805  </td> <td>1,589,127  </td> <td>349,322  </td> <td>6.40% </td>\n",
       "        </tr>\n",
       "    </tbody>\n",
       "        <tr>\n",
       "            <td>1   </td> <td>67  </td> <td>1,270,148  </td> <td>1,653,257  </td> <td>383,109  </td> <td>6.81% </td>\n",
       "        </tr>\n",
       "    </tbody>\n",
       "        <tr>\n",
       "            <td>1   </td> <td>71  </td> <td>903,263    </td> <td>1,169,356  </td> <td>266,093  </td> <td>6.67% </td>\n",
       "        </tr>\n",
       "    </tbody>\n",
       "        <tr>\n",
       "            <td>1   </td> <td>999 </td> <td>152,089,484</td> <td>156,936,487</td> <td>4,847,003</td> <td>0.79% </td>\n",
       "        </tr>\n",
       "    </tbody>\n",
       "</table>"
      ],
      "text/plain": [
       "<IPython.core.display.HTML object>"
      ]
     },
     "metadata": {},
     "output_type": "display_data"
    }
   ],
   "source": [
    "males.where(males.column('Change') > 200000).show()"
   ]
  },
  {
   "cell_type": "markdown",
   "metadata": {},
   "source": [
    "By far the largest changes are clumped together in the 64-67 range. In 2014, these people would be born between 1947 and 1951, the height of the post-WWII baby boom in the United States."
   ]
  },
  {
   "cell_type": "markdown",
   "metadata": {},
   "source": [
    "It is possible to specify multiple conditions using the functions `np.logical_and` and `np.logical_or`. When two conditions are combined with `logical_and`, both must be true for a row to be retained. When conditions are combined with `logical_or`, then either one of them must be true for a row to be retained. Here are two different ways to select 18 and 19 year olds."
   ]
  },
  {
   "cell_type": "code",
   "execution_count": 23,
   "metadata": {
    "collapsed": false
   },
   "outputs": [
    {
     "data": {
      "text/html": [
       "<table border=\"1\" class=\"dataframe\">\n",
       "    <thead>\n",
       "        <tr>\n",
       "            <th>SEX</th> <th>AGE</th> <th>2010</th> <th>2014</th> <th>Change</th> <th>Growth</th>\n",
       "        </tr>\n",
       "    </thead>\n",
       "    <tbody>\n",
       "        <tr>\n",
       "            <td>1   </td> <td>18  </td> <td>2,305,733  </td> <td>2,165,062  </td> <td>-140,671 </td> <td>-1.56%</td>\n",
       "        </tr>\n",
       "    </tbody>\n",
       "        <tr>\n",
       "            <td>1   </td> <td>19  </td> <td>2,334,906  </td> <td>2,220,790  </td> <td>-114,116 </td> <td>-1.24%</td>\n",
       "        </tr>\n",
       "    </tbody>\n",
       "        <tr>\n",
       "            <td>2   </td> <td>18  </td> <td>2,185,272  </td> <td>2,060,528  </td> <td>-124,744 </td> <td>-1.46%</td>\n",
       "        </tr>\n",
       "    </tbody>\n",
       "        <tr>\n",
       "            <td>2   </td> <td>19  </td> <td>2,236,479  </td> <td>2,105,604  </td> <td>-130,875 </td> <td>-1.50%</td>\n",
       "        </tr>\n",
       "    </tbody>\n",
       "</table>"
      ],
      "text/plain": [
       "SEX  | AGE  | 2010        | 2014        | Change    | Growth\n",
       "1    | 18   | 2,305,733   | 2,165,062   | -140,671  | -1.56%\n",
       "1    | 19   | 2,334,906   | 2,220,790   | -114,116  | -1.24%\n",
       "2    | 18   | 2,185,272   | 2,060,528   | -124,744  | -1.46%\n",
       "2    | 19   | 2,236,479   | 2,105,604   | -130,875  | -1.50%"
      ]
     },
     "execution_count": 23,
     "metadata": {},
     "output_type": "execute_result"
    }
   ],
   "source": [
    "both = census.where(census.column('SEX') != 0)\n",
    "both.where(np.logical_or(both.column('AGE') == 18, \n",
    "                         both.column('AGE') == 19))"
   ]
  },
  {
   "cell_type": "code",
   "execution_count": 24,
   "metadata": {
    "collapsed": false
   },
   "outputs": [
    {
     "data": {
      "text/html": [
       "<table border=\"1\" class=\"dataframe\">\n",
       "    <thead>\n",
       "        <tr>\n",
       "            <th>SEX</th> <th>AGE</th> <th>2010</th> <th>2014</th> <th>Change</th> <th>Growth</th>\n",
       "        </tr>\n",
       "    </thead>\n",
       "    <tbody>\n",
       "        <tr>\n",
       "            <td>1   </td> <td>18  </td> <td>2,305,733  </td> <td>2,165,062  </td> <td>-140,671 </td> <td>-1.56%</td>\n",
       "        </tr>\n",
       "    </tbody>\n",
       "        <tr>\n",
       "            <td>1   </td> <td>19  </td> <td>2,334,906  </td> <td>2,220,790  </td> <td>-114,116 </td> <td>-1.24%</td>\n",
       "        </tr>\n",
       "    </tbody>\n",
       "        <tr>\n",
       "            <td>2   </td> <td>18  </td> <td>2,185,272  </td> <td>2,060,528  </td> <td>-124,744 </td> <td>-1.46%</td>\n",
       "        </tr>\n",
       "    </tbody>\n",
       "        <tr>\n",
       "            <td>2   </td> <td>19  </td> <td>2,236,479  </td> <td>2,105,604  </td> <td>-130,875 </td> <td>-1.50%</td>\n",
       "        </tr>\n",
       "    </tbody>\n",
       "</table>"
      ],
      "text/plain": [
       "SEX  | AGE  | 2010        | 2014        | Change    | Growth\n",
       "1    | 18   | 2,305,733   | 2,165,062   | -140,671  | -1.56%\n",
       "1    | 19   | 2,334,906   | 2,220,790   | -114,116  | -1.24%\n",
       "2    | 18   | 2,185,272   | 2,060,528   | -124,744  | -1.46%\n",
       "2    | 19   | 2,236,479   | 2,105,604   | -130,875  | -1.50%"
      ]
     },
     "execution_count": 24,
     "metadata": {},
     "output_type": "execute_result"
    }
   ],
   "source": [
    "both.where(np.logical_and(both.column('AGE') >= 18, \n",
    "                          both.column('AGE') <= 19))"
   ]
  },
  {
   "cell_type": "markdown",
   "metadata": {},
   "source": [
    "Here, we observe a rather dramatic decrease in the number of 18 and 19 year olds in the United States; the children of the baby boom generation are now in their 20's, leaving fewer teenagers in America."
   ]
  },
  {
   "cell_type": "markdown",
   "metadata": {},
   "source": [
    "**Aggregation and Grouping.** This particular dataset includes entries for sums across all ages and sexes, using the special values `999` and `0` respectively. However, if these rows did not exist, we would be able to aggregate the remaining entries in order to compute those same results."
   ]
  },
  {
   "cell_type": "code",
   "execution_count": 25,
   "metadata": {
    "collapsed": false
   },
   "outputs": [
    {
     "data": {
      "text/html": [
       "<table border=\"1\" class=\"dataframe\">\n",
       "    <thead>\n",
       "        <tr>\n",
       "            <th>SEX</th> <th>2014</th>\n",
       "        </tr>\n",
       "    </thead>\n",
       "    <tbody>\n",
       "        <tr>\n",
       "            <td>1   </td> <td>156,936,487</td>\n",
       "        </tr>\n",
       "    </tbody>\n",
       "        <tr>\n",
       "            <td>2   </td> <td>161,920,569</td>\n",
       "        </tr>\n",
       "    </tbody>\n",
       "</table>"
      ],
      "text/plain": [
       "SEX  | 2014\n",
       "1    | 156,936,487\n",
       "2    | 161,920,569"
      ]
     },
     "execution_count": 25,
     "metadata": {},
     "output_type": "execute_result"
    }
   ],
   "source": [
    "both.where('AGE', 999).select(['SEX', '2014'])"
   ]
  },
  {
   "cell_type": "code",
   "execution_count": 26,
   "metadata": {
    "collapsed": false
   },
   "outputs": [
    {
     "data": {
      "text/html": [
       "<table border=\"1\" class=\"dataframe\">\n",
       "    <thead>\n",
       "        <tr>\n",
       "            <th>AGE</th> <th>2014</th>\n",
       "        </tr>\n",
       "    </thead>\n",
       "    <tbody>\n",
       "        <tr>\n",
       "            <td>0   </td> <td>1,930,493  </td>\n",
       "        </tr>\n",
       "    </tbody>\n",
       "        <tr>\n",
       "            <td>1   </td> <td>1,938,870  </td>\n",
       "        </tr>\n",
       "    </tbody>\n",
       "        <tr>\n",
       "            <td>2   </td> <td>1,935,270  </td>\n",
       "        </tr>\n",
       "    </tbody>\n",
       "        <tr>\n",
       "            <td>3   </td> <td>1,956,572  </td>\n",
       "        </tr>\n",
       "    </tbody>\n",
       "        <tr>\n",
       "            <td>4   </td> <td>1,959,950  </td>\n",
       "        </tr>\n",
       "    </tbody>\n",
       "        <tr>\n",
       "            <td>5   </td> <td>1,961,391  </td>\n",
       "        </tr>\n",
       "    </tbody>\n",
       "        <tr>\n",
       "            <td>6   </td> <td>2,024,024  </td>\n",
       "        </tr>\n",
       "    </tbody>\n",
       "        <tr>\n",
       "            <td>7   </td> <td>2,031,760  </td>\n",
       "        </tr>\n",
       "    </tbody>\n",
       "        <tr>\n",
       "            <td>8   </td> <td>2,014,402  </td>\n",
       "        </tr>\n",
       "    </tbody>\n",
       "        <tr>\n",
       "            <td>9   </td> <td>2,009,560  </td>\n",
       "        </tr>\n",
       "    </tbody>\n",
       "</table>\n",
       "<p>... (91 rows omitted)</p"
      ],
      "text/plain": [
       "AGE  | 2014\n",
       "0    | 1,930,493\n",
       "1    | 1,938,870\n",
       "2    | 1,935,270\n",
       "3    | 1,956,572\n",
       "4    | 1,959,950\n",
       "5    | 1,961,391\n",
       "6    | 2,024,024\n",
       "7    | 2,031,760\n",
       "8    | 2,014,402\n",
       "9    | 2,009,560\n",
       "... (91 rows omitted)"
      ]
     },
     "execution_count": 26,
     "metadata": {},
     "output_type": "execute_result"
    }
   ],
   "source": [
    "no_sums = both.select(['SEX', 'AGE', '2014']).where(both.column('AGE') != 999)\n",
    "females = no_sums.where('SEX', 2).select(['AGE', '2014'])\n",
    "females"
   ]
  },
  {
   "cell_type": "code",
   "execution_count": 27,
   "metadata": {
    "collapsed": false
   },
   "outputs": [
    {
     "data": {
      "text/plain": [
       "161920569"
      ]
     },
     "execution_count": 27,
     "metadata": {},
     "output_type": "execute_result"
    }
   ],
   "source": [
    "sum(females['2014'])"
   ]
  },
  {
   "cell_type": "markdown",
   "metadata": {},
   "source": [
    "Some columns express categories, such as the sex or age group in the case of the census table. Aggregation can also be performed on every value for a category using the `group` and `groups` methods. The `group` method takes a single column (or column name) as an argument and collects all values associated with each unique value in that column.\n",
    "\n",
    "The second argument to `group`, the name of a function, specifies how to aggregate the resulting values. For example, the `sum` function can be used to add together the populations for each age. In this result, the `SEX sum` column is meaningless because the values were simply codes for different categories. However, the `2014 sum` column does in fact contain the total number across all sexes for each age category."
   ]
  },
  {
   "cell_type": "code",
   "execution_count": 28,
   "metadata": {
    "collapsed": false
   },
   "outputs": [
    {
     "data": {
      "text/html": [
       "<table border=\"1\" class=\"dataframe\">\n",
       "    <thead>\n",
       "        <tr>\n",
       "            <th>AGE</th> <th>2014 sum</th>\n",
       "        </tr>\n",
       "    </thead>\n",
       "    <tbody>\n",
       "        <tr>\n",
       "            <td>0   </td> <td>3948350 </td>\n",
       "        </tr>\n",
       "    </tbody>\n",
       "        <tr>\n",
       "            <td>1   </td> <td>3962123 </td>\n",
       "        </tr>\n",
       "    </tbody>\n",
       "        <tr>\n",
       "            <td>2   </td> <td>3957772 </td>\n",
       "        </tr>\n",
       "    </tbody>\n",
       "        <tr>\n",
       "            <td>3   </td> <td>4005190 </td>\n",
       "        </tr>\n",
       "    </tbody>\n",
       "        <tr>\n",
       "            <td>4   </td> <td>4003448 </td>\n",
       "        </tr>\n",
       "    </tbody>\n",
       "        <tr>\n",
       "            <td>5   </td> <td>4004858 </td>\n",
       "        </tr>\n",
       "    </tbody>\n",
       "        <tr>\n",
       "            <td>6   </td> <td>4134352 </td>\n",
       "        </tr>\n",
       "    </tbody>\n",
       "        <tr>\n",
       "            <td>7   </td> <td>4154000 </td>\n",
       "        </tr>\n",
       "    </tbody>\n",
       "        <tr>\n",
       "            <td>8   </td> <td>4119524 </td>\n",
       "        </tr>\n",
       "    </tbody>\n",
       "        <tr>\n",
       "            <td>9   </td> <td>4106832 </td>\n",
       "        </tr>\n",
       "    </tbody>\n",
       "</table>\n",
       "<p>... (91 rows omitted)</p"
      ],
      "text/plain": [
       "AGE  | 2014 sum\n",
       "0    | 3948350\n",
       "1    | 3962123\n",
       "2    | 3957772\n",
       "3    | 4005190\n",
       "4    | 4003448\n",
       "5    | 4004858\n",
       "6    | 4134352\n",
       "7    | 4154000\n",
       "8    | 4119524\n",
       "9    | 4106832\n",
       "... (91 rows omitted)"
      ]
     },
     "execution_count": 28,
     "metadata": {},
     "output_type": "execute_result"
    }
   ],
   "source": [
    "no_sums.select(['AGE', '2014']).group('AGE', sum)"
   ]
  },
  {
   "cell_type": "markdown",
   "metadata": {},
   "source": [
    "**Joining Tables.** There are many situations in data analysis in which two different rows need to be considered together. Two tables can be joined into one, an operation that creates one long row out of two matching rows. These matching rows can be from the same table or different tables.\n",
    "\n",
    "For example, we might want to estimate which age categories are expected to change significantly in the future. Someone who is 14 years old in 2014 will be 20 years old in 2020. Therefore, one estimate of the number of 20 year olds in 2020 is the number of 14 year olds in 2014. Between the ages of 1 and 50, annual mortality rates are very low (less than 0.5% for men and less than 0.3% for women [[1](http://www.ssa.gov/oact/STATS/table4c6.html)]). Immigration also affects population changes, but for now we will ignore its influence. Let's consider just females in this analysis."
   ]
  },
  {
   "cell_type": "code",
   "execution_count": 29,
   "metadata": {
    "collapsed": false
   },
   "outputs": [
    {
     "data": {
      "text/html": [
       "<table border=\"1\" class=\"dataframe\">\n",
       "    <thead>\n",
       "        <tr>\n",
       "            <th>AGE</th> <th>2014</th> <th>AGE+6</th>\n",
       "        </tr>\n",
       "    </thead>\n",
       "    <tbody>\n",
       "        <tr>\n",
       "            <td>0   </td> <td>1,930,493  </td> <td>6    </td>\n",
       "        </tr>\n",
       "    </tbody>\n",
       "        <tr>\n",
       "            <td>1   </td> <td>1,938,870  </td> <td>7    </td>\n",
       "        </tr>\n",
       "    </tbody>\n",
       "        <tr>\n",
       "            <td>2   </td> <td>1,935,270  </td> <td>8    </td>\n",
       "        </tr>\n",
       "    </tbody>\n",
       "        <tr>\n",
       "            <td>3   </td> <td>1,956,572  </td> <td>9    </td>\n",
       "        </tr>\n",
       "    </tbody>\n",
       "        <tr>\n",
       "            <td>4   </td> <td>1,959,950  </td> <td>10   </td>\n",
       "        </tr>\n",
       "    </tbody>\n",
       "        <tr>\n",
       "            <td>5   </td> <td>1,961,391  </td> <td>11   </td>\n",
       "        </tr>\n",
       "    </tbody>\n",
       "        <tr>\n",
       "            <td>6   </td> <td>2,024,024  </td> <td>12   </td>\n",
       "        </tr>\n",
       "    </tbody>\n",
       "        <tr>\n",
       "            <td>7   </td> <td>2,031,760  </td> <td>13   </td>\n",
       "        </tr>\n",
       "    </tbody>\n",
       "        <tr>\n",
       "            <td>8   </td> <td>2,014,402  </td> <td>14   </td>\n",
       "        </tr>\n",
       "    </tbody>\n",
       "        <tr>\n",
       "            <td>9   </td> <td>2,009,560  </td> <td>15   </td>\n",
       "        </tr>\n",
       "    </tbody>\n",
       "</table>\n",
       "<p>... (91 rows omitted)</p"
      ],
      "text/plain": [
       "AGE  | 2014        | AGE+6\n",
       "0    | 1,930,493   | 6\n",
       "1    | 1,938,870   | 7\n",
       "2    | 1,935,270   | 8\n",
       "3    | 1,956,572   | 9\n",
       "4    | 1,959,950   | 10\n",
       "5    | 1,961,391   | 11\n",
       "6    | 2,024,024   | 12\n",
       "7    | 2,031,760   | 13\n",
       "8    | 2,014,402   | 14\n",
       "9    | 2,009,560   | 15\n",
       "... (91 rows omitted)"
      ]
     },
     "execution_count": 29,
     "metadata": {},
     "output_type": "execute_result"
    }
   ],
   "source": [
    "females['AGE+6'] = females['AGE'] + 6\n",
    "females"
   ]
  },
  {
   "cell_type": "markdown",
   "metadata": {},
   "source": [
    "In order to relate the age in 2014 to the age in 2020, we will join this table with itself, matching values in the `AGE` column with values in the `AGE in 2020` column."
   ]
  },
  {
   "cell_type": "code",
   "execution_count": 30,
   "metadata": {
    "collapsed": false
   },
   "outputs": [
    {
     "data": {
      "text/html": [
       "<table border=\"1\" class=\"dataframe\">\n",
       "    <thead>\n",
       "        <tr>\n",
       "            <th>AGE</th> <th>2014</th> <th>AGE+6</th> <th>AGE_2</th> <th>2014_2</th>\n",
       "        </tr>\n",
       "    </thead>\n",
       "    <tbody>\n",
       "        <tr>\n",
       "            <td>6   </td> <td>2024024</td> <td>12   </td> <td>0    </td> <td>1930493</td>\n",
       "        </tr>\n",
       "    </tbody>\n",
       "        <tr>\n",
       "            <td>7   </td> <td>2031760</td> <td>13   </td> <td>1    </td> <td>1938870</td>\n",
       "        </tr>\n",
       "    </tbody>\n",
       "        <tr>\n",
       "            <td>8   </td> <td>2014402</td> <td>14   </td> <td>2    </td> <td>1935270</td>\n",
       "        </tr>\n",
       "    </tbody>\n",
       "        <tr>\n",
       "            <td>9   </td> <td>2009560</td> <td>15   </td> <td>3    </td> <td>1956572</td>\n",
       "        </tr>\n",
       "    </tbody>\n",
       "        <tr>\n",
       "            <td>10  </td> <td>2015380</td> <td>16   </td> <td>4    </td> <td>1959950</td>\n",
       "        </tr>\n",
       "    </tbody>\n",
       "        <tr>\n",
       "            <td>11  </td> <td>2001949</td> <td>17   </td> <td>5    </td> <td>1961391</td>\n",
       "        </tr>\n",
       "    </tbody>\n",
       "        <tr>\n",
       "            <td>12  </td> <td>1993547</td> <td>18   </td> <td>6    </td> <td>2024024</td>\n",
       "        </tr>\n",
       "    </tbody>\n",
       "        <tr>\n",
       "            <td>13  </td> <td>2041159</td> <td>19   </td> <td>7    </td> <td>2031760</td>\n",
       "        </tr>\n",
       "    </tbody>\n",
       "        <tr>\n",
       "            <td>14  </td> <td>2068252</td> <td>20   </td> <td>8    </td> <td>2014402</td>\n",
       "        </tr>\n",
       "    </tbody>\n",
       "        <tr>\n",
       "            <td>15  </td> <td>2035299</td> <td>21   </td> <td>9    </td> <td>2009560</td>\n",
       "        </tr>\n",
       "    </tbody>\n",
       "</table>\n",
       "<p>... (85 rows omitted)</p"
      ],
      "text/plain": [
       "AGE  | 2014    | AGE+6 | AGE_2 | 2014_2\n",
       "6    | 2024024 | 12    | 0     | 1930493\n",
       "7    | 2031760 | 13    | 1     | 1938870\n",
       "8    | 2014402 | 14    | 2     | 1935270\n",
       "9    | 2009560 | 15    | 3     | 1956572\n",
       "10   | 2015380 | 16    | 4     | 1959950\n",
       "11   | 2001949 | 17    | 5     | 1961391\n",
       "12   | 1993547 | 18    | 6     | 2024024\n",
       "13   | 2041159 | 19    | 7     | 2031760\n",
       "14   | 2068252 | 20    | 8     | 2014402\n",
       "15   | 2035299 | 21    | 9     | 2009560\n",
       "... (85 rows omitted)"
      ]
     },
     "execution_count": 30,
     "metadata": {},
     "output_type": "execute_result"
    }
   ],
   "source": [
    "joined = females.join('AGE', females, 'AGE+6')\n",
    "joined"
   ]
  },
  {
   "cell_type": "markdown",
   "metadata": {},
   "source": [
    "The resulting table has five columns. The first three are the same as before. The two new colums are the values for `AGE` and `2014` that appeared in a different row, the one in which that `AGE` appeared in the `AGE+6` column. For instance, the first row contains the number of 6 year olds in 2014 and an estimate of the number of 6 year olds in 2020 (who were 0 in 2014). Some relabeling and selecting makes this table more clear."
   ]
  },
  {
   "cell_type": "code",
   "execution_count": 31,
   "metadata": {
    "collapsed": false
   },
   "outputs": [
    {
     "data": {
      "text/html": [
       "<table border=\"1\" class=\"dataframe\">\n",
       "    <thead>\n",
       "        <tr>\n",
       "            <th>AGE</th> <th>2014</th> <th>2020 (est)</th>\n",
       "        </tr>\n",
       "    </thead>\n",
       "    <tbody>\n",
       "        <tr>\n",
       "            <td>6   </td> <td>2024024</td> <td>1930493   </td>\n",
       "        </tr>\n",
       "    </tbody>\n",
       "        <tr>\n",
       "            <td>7   </td> <td>2031760</td> <td>1938870   </td>\n",
       "        </tr>\n",
       "    </tbody>\n",
       "        <tr>\n",
       "            <td>8   </td> <td>2014402</td> <td>1935270   </td>\n",
       "        </tr>\n",
       "    </tbody>\n",
       "        <tr>\n",
       "            <td>9   </td> <td>2009560</td> <td>1956572   </td>\n",
       "        </tr>\n",
       "    </tbody>\n",
       "        <tr>\n",
       "            <td>10  </td> <td>2015380</td> <td>1959950   </td>\n",
       "        </tr>\n",
       "    </tbody>\n",
       "        <tr>\n",
       "            <td>11  </td> <td>2001949</td> <td>1961391   </td>\n",
       "        </tr>\n",
       "    </tbody>\n",
       "        <tr>\n",
       "            <td>12  </td> <td>1993547</td> <td>2024024   </td>\n",
       "        </tr>\n",
       "    </tbody>\n",
       "        <tr>\n",
       "            <td>13  </td> <td>2041159</td> <td>2031760   </td>\n",
       "        </tr>\n",
       "    </tbody>\n",
       "        <tr>\n",
       "            <td>14  </td> <td>2068252</td> <td>2014402   </td>\n",
       "        </tr>\n",
       "    </tbody>\n",
       "        <tr>\n",
       "            <td>15  </td> <td>2035299</td> <td>2009560   </td>\n",
       "        </tr>\n",
       "    </tbody>\n",
       "</table>\n",
       "<p>... (85 rows omitted)</p"
      ],
      "text/plain": [
       "AGE  | 2014    | 2020 (est)\n",
       "6    | 2024024 | 1930493\n",
       "7    | 2031760 | 1938870\n",
       "8    | 2014402 | 1935270\n",
       "9    | 2009560 | 1956572\n",
       "10   | 2015380 | 1959950\n",
       "11   | 2001949 | 1961391\n",
       "12   | 1993547 | 2024024\n",
       "13   | 2041159 | 2031760\n",
       "14   | 2068252 | 2014402\n",
       "15   | 2035299 | 2009560\n",
       "... (85 rows omitted)"
      ]
     },
     "execution_count": 31,
     "metadata": {},
     "output_type": "execute_result"
    }
   ],
   "source": [
    "future = joined.select(['AGE', '2014', '2014_2']).relabeled('2014_2', '2020 (est)')\n",
    "future"
   ]
  },
  {
   "cell_type": "markdown",
   "metadata": {},
   "source": [
    "Adding a `Change` column and sorting by that change describes some of the major changes in age categories that we can expect in the United States for people under 50. According to this simplistic analysis, there will be substantially more people in their late 30's by 2020."
   ]
  },
  {
   "cell_type": "code",
   "execution_count": 32,
   "metadata": {
    "collapsed": false
   },
   "outputs": [
    {
     "data": {
      "text/html": [
       "<table border=\"1\" class=\"dataframe\">\n",
       "    <thead>\n",
       "        <tr>\n",
       "            <th>AGE</th> <th>2014</th> <th>2020 (est)</th> <th>Change</th>\n",
       "        </tr>\n",
       "    </thead>\n",
       "    <tbody>\n",
       "        <tr>\n",
       "            <td>40  </td> <td>1940627</td> <td>2170440   </td> <td>229813</td>\n",
       "        </tr>\n",
       "    </tbody>\n",
       "        <tr>\n",
       "            <td>38  </td> <td>1936610</td> <td>2154232   </td> <td>217622</td>\n",
       "        </tr>\n",
       "    </tbody>\n",
       "        <tr>\n",
       "            <td>30  </td> <td>2110672</td> <td>2301237   </td> <td>190565</td>\n",
       "        </tr>\n",
       "    </tbody>\n",
       "        <tr>\n",
       "            <td>37  </td> <td>1995155</td> <td>2148981   </td> <td>153826</td>\n",
       "        </tr>\n",
       "    </tbody>\n",
       "        <tr>\n",
       "            <td>39  </td> <td>1993913</td> <td>2135416   </td> <td>141503</td>\n",
       "        </tr>\n",
       "    </tbody>\n",
       "        <tr>\n",
       "            <td>29  </td> <td>2169563</td> <td>2298701   </td> <td>129138</td>\n",
       "        </tr>\n",
       "    </tbody>\n",
       "        <tr>\n",
       "            <td>35  </td> <td>2046713</td> <td>2169563   </td> <td>122850</td>\n",
       "        </tr>\n",
       "    </tbody>\n",
       "        <tr>\n",
       "            <td>36  </td> <td>2009423</td> <td>2110672   </td> <td>101249</td>\n",
       "        </tr>\n",
       "    </tbody>\n",
       "        <tr>\n",
       "            <td>28  </td> <td>2144666</td> <td>2244480   </td> <td>99814 </td>\n",
       "        </tr>\n",
       "    </tbody>\n",
       "        <tr>\n",
       "            <td>41  </td> <td>1977497</td> <td>2046713   </td> <td>69216 </td>\n",
       "        </tr>\n",
       "    </tbody>\n",
       "</table>\n",
       "<p>... (34 rows omitted)</p"
      ],
      "text/plain": [
       "AGE  | 2014    | 2020 (est) | Change\n",
       "40   | 1940627 | 2170440    | 229813\n",
       "38   | 1936610 | 2154232    | 217622\n",
       "30   | 2110672 | 2301237    | 190565\n",
       "37   | 1995155 | 2148981    | 153826\n",
       "39   | 1993913 | 2135416    | 141503\n",
       "29   | 2169563 | 2298701    | 129138\n",
       "35   | 2046713 | 2169563    | 122850\n",
       "36   | 2009423 | 2110672    | 101249\n",
       "28   | 2144666 | 2244480    | 99814\n",
       "41   | 1977497 | 2046713    | 69216\n",
       "... (34 rows omitted)"
      ]
     },
     "execution_count": 32,
     "metadata": {},
     "output_type": "execute_result"
    }
   ],
   "source": [
    "predictions = future.where(future['AGE'] < 50)\n",
    "predictions['Change'] = predictions['2020 (est)'] - predictions['2014']\n",
    "predictions.sort('Change', descending=True)"
   ]
  }
 ],
 "metadata": {
  "kernelspec": {
   "display_name": "Python 3",
   "language": "python",
   "name": "python3"
  },
  "language_info": {
   "codemirror_mode": {
    "name": "ipython",
    "version": 3
   },
   "file_extension": ".py",
   "mimetype": "text/x-python",
   "name": "python",
   "nbconvert_exporter": "python",
   "pygments_lexer": "ipython3",
   "version": "3.4.4"
  }
 },
 "nbformat": 4,
 "nbformat_minor": 0
}
