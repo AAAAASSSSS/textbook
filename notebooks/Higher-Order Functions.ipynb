{
 "cells": [
  {
   "cell_type": "code",
   "execution_count": 2,
   "metadata": {
    "collapsed": true
   },
   "outputs": [],
   "source": [
    "# HIDDEN\n",
    "from datascience import *\n",
    "%matplotlib inline\n",
    "import matplotlib.pyplot as plots\n",
    "plots.style.use('fivethirtyeight')\n",
    "import math\n",
    "import numpy as np\n",
    "from scipy import stats"
   ]
  },
  {
   "cell_type": "markdown",
   "metadata": {},
   "source": [
    "The functions we have defined so far compute their outputs directly from their inputs. Their return values can be computed from their arguments. However, some functions require additional data to deterimine their return values.\n",
    "\n",
    "Let's start with a simple example. Consider the following three functions that all scale their input by a constant factor."
   ]
  },
  {
   "cell_type": "code",
   "execution_count": 4,
   "metadata": {
    "collapsed": false
   },
   "outputs": [
    {
     "data": {
      "text/plain": [
       "[8, 12, 2.0]"
      ]
     },
     "execution_count": 4,
     "metadata": {},
     "output_type": "execute_result"
    }
   ],
   "source": [
    "def double(x):\n",
    "    return 2 * x\n",
    "\n",
    "def triple(x):\n",
    "    return 3 * x\n",
    "\n",
    "def halve(x):\n",
    "    return 0.5 * x\n",
    "\n",
    "[double(4), triple(4), halve(4)]"
   ]
  },
  {
   "cell_type": "markdown",
   "metadata": {},
   "source": [
    "Rather than defining each of these functions with a separate `def` statement, it is possible to generate each of them dynamically by passing in the constant to a generic `scale_by` function."
   ]
  },
  {
   "cell_type": "code",
   "execution_count": 6,
   "metadata": {
    "collapsed": false
   },
   "outputs": [
    {
     "data": {
      "text/plain": [
       "[8, 12, 2.0]"
      ]
     },
     "execution_count": 6,
     "metadata": {},
     "output_type": "execute_result"
    }
   ],
   "source": [
    "def scale_by(a):\n",
    "    def scale(x):\n",
    "        return a * x\n",
    "    return scale\n",
    "\n",
    "double = scale_by(2)\n",
    "triple = scale_by(3)\n",
    "halve = scale_by(0.5)\n",
    "        \n",
    "[double(4), triple(4), halve(4)]"
   ]
  },
  {
   "cell_type": "markdown",
   "metadata": {},
   "source": [
    "The body of the `scale_by` function actually defines a new function, called `scale`, and then returns it. The return value of `scale_by` is a function that takes a number and scales it. Because `scale_by` is a function that returns a function, it is called a *higher-order function*.\n",
    "\n",
    "The purpose of higher-order functions is to create functions that combine data with behavior. Above, the `double` function is created by combining the data value `2` with the behavior of scaling by a constant.\n",
    "\n",
    "A `def` statement within another `def` statement behaves in the same way as any other `def` statement *except* that:\n",
    "1. The name of the inner function is only accessible within the outer function's body. For example, it is not possible to use the name `scale` once `scale_by` has returned.\n",
    "1. The body of the inner function can refer to the arguments and names within the outer function. So, for example, the body of the inner `scale` function can refer to `a`, which is an argument of the outer function `scale_by`.\n",
    "\n",
    "The final line of the outer `scale_by` function is `return scale`. This line returns the *function* that was just defined. The purpose of returning a function is to give it a name. The line\n",
    "\n",
    "    double = scale_by(2)\n",
    "    \n",
    "gives the name `double` to the particular instance of the `scale` function that has `a` assigned to the number 2. Notice that it is possible to keep multiple instances of the `scale` function around at once, all with different names such as `double` and `triple`, and Python keeps track of which value for `a` to use each time one of these functions is called."
   ]
  },
  {
   "cell_type": "markdown",
   "metadata": {},
   "source": [
    "## Example: Standard Units"
   ]
  },
  {
   "cell_type": "markdown",
   "metadata": {},
   "source": [
    "We have seen how to convert a list of numbers to standard units by subtracting the mean and dividing by the standard deviation."
   ]
  },
  {
   "cell_type": "code",
   "execution_count": 8,
   "metadata": {
    "collapsed": true
   },
   "outputs": [],
   "source": [
    "def standard_units(any_numbers):\n",
    "    \"Convert any array of numbers to standard units.\"\n",
    "    return (any_numbers - np.mean(any_numbers))/np.std(any_numbers)  "
   ]
  },
  {
   "cell_type": "markdown",
   "metadata": {},
   "source": [
    "This function can convert any list of numbers to standard units."
   ]
  },
  {
   "cell_type": "code",
   "execution_count": 39,
   "metadata": {
    "collapsed": false
   },
   "outputs": [
    {
     "data": {
      "text/plain": [
       "array([-0.333,  0.333, -1.   ,  0.333, -0.333,  1.   , -1.667,  1.667])"
      ]
     },
     "execution_count": 39,
     "metadata": {},
     "output_type": "execute_result"
    }
   ],
   "source": [
    "observations = [3, 4, 2, 4, 3, 5, 1, 6]\n",
    "np.round(standard_units(observations), 3)"
   ]
  },
  {
   "cell_type": "markdown",
   "metadata": {},
   "source": [
    "How would we answer the question, \"what is the number 8 (in original units) converted to standard units?\"\n",
    "\n",
    "Adding 8 to the list of `observations` and re-computing `standard_units` does *not* answer this question, because adding an observation changes the scale!"
   ]
  },
  {
   "cell_type": "code",
   "execution_count": 28,
   "metadata": {
    "collapsed": false
   },
   "outputs": [
    {
     "data": {
      "text/plain": [
       "array([-0.5,  0. , -1. ,  0. , -0.5,  0.5, -1.5,  1. ,  2. ])"
      ]
     },
     "execution_count": 28,
     "metadata": {},
     "output_type": "execute_result"
    }
   ],
   "source": [
    "observations_with_eight = [3, 4, 2, 4, 3, 5, 1, 6, 8]\n",
    "standard_units(observations_with_eight)"
   ]
  },
  {
   "cell_type": "markdown",
   "metadata": {},
   "source": [
    "If instead we want to maintain the original scale, we need a function that remembers the original mean and standard deviation. This scenario, where both data and behavior are required to arrive at the answer, is a natural fit for a higher-order function."
   ]
  },
  {
   "cell_type": "code",
   "execution_count": 29,
   "metadata": {
    "collapsed": true
   },
   "outputs": [],
   "source": [
    "def converter_to_standard_units(any_numbers):\n",
    "    \"\"\"Return a function that converts to the standard units of any_numbers.\"\"\"\n",
    "    mean = np.mean(any_numbers)\n",
    "    sd = np.std(any_numbers)\n",
    "    def convert(a_number_in_original_units):\n",
    "        return (a_number_in_original_units - mean) / sd\n",
    "    return convert"
   ]
  },
  {
   "cell_type": "markdown",
   "metadata": {},
   "source": [
    "Now, we can use the original list of numbers to create the conversion function. The mean and standard deviation are stored within the function that is returned, called `to_su` below. What's more, these numbers are only computed once, no matter how many times we call the function."
   ]
  },
  {
   "cell_type": "code",
   "execution_count": 32,
   "metadata": {
    "collapsed": false
   },
   "outputs": [
    {
     "data": {
      "text/plain": [
       "[-1.0, -0.33333333333333331, 3.0]"
      ]
     },
     "execution_count": 32,
     "metadata": {},
     "output_type": "execute_result"
    }
   ],
   "source": [
    "to_su = converter_to_standard_units(observations)\n",
    "[to_su(2), to_su(3), to_su(8)]"
   ]
  },
  {
   "cell_type": "markdown",
   "metadata": {},
   "source": [
    "A complementary function that returns a converter from standard units to original units involves multipying by the standard deviation, then adding the mean."
   ]
  },
  {
   "cell_type": "code",
   "execution_count": 37,
   "metadata": {
    "collapsed": false
   },
   "outputs": [
    {
     "data": {
      "text/plain": [
       "8.0"
      ]
     },
     "execution_count": 37,
     "metadata": {},
     "output_type": "execute_result"
    }
   ],
   "source": [
    "def converter_from_standard_units(any_numbers):\n",
    "    \"\"\"Return a function that converts from the standard units of any_numbers.\"\"\"\n",
    "    mean = np.mean(any_numbers)\n",
    "    sd = np.std(any_numbers)\n",
    "    def convert(in_standard_units):\n",
    "        return in_standard_units * sd + mean\n",
    "    return convert\n",
    "\n",
    "from_su = converter_from_standard_units(observations)\n",
    "from_su(3)"
   ]
  },
  {
   "cell_type": "markdown",
   "metadata": {},
   "source": [
    "It should be the case that any number converted to standard units and back, using the same list to create both functions. "
   ]
  },
  {
   "cell_type": "code",
   "execution_count": 36,
   "metadata": {
    "collapsed": false
   },
   "outputs": [
    {
     "data": {
      "text/plain": [
       "11.0"
      ]
     },
     "execution_count": 36,
     "metadata": {},
     "output_type": "execute_result"
    }
   ],
   "source": [
    "from_su(to_su(11))"
   ]
  },
  {
   "cell_type": "markdown",
   "metadata": {},
   "source": [
    "Higher-order functions appear often in the context of prediction because estimating a value often involves both data to inform the prediction and a procedure that makes the prediction itself."
   ]
  }
 ],
 "metadata": {
  "kernelspec": {
   "display_name": "Python 3",
   "language": "python",
   "name": "python3"
  },
  "language_info": {
   "codemirror_mode": {
    "name": "ipython",
    "version": 3
   },
   "file_extension": ".py",
   "mimetype": "text/x-python",
   "name": "python",
   "nbconvert_exporter": "python",
   "pygments_lexer": "ipython3",
   "version": "3.4.4"
  }
 },
 "nbformat": 4,
 "nbformat_minor": 0
}
