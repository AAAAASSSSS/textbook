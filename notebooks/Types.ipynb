{
 "cells": [
  {
   "cell_type": "markdown",
   "metadata": {},
   "source": [
    "Python includes several types of values that will allow us to compute about more than just numbers.\n",
    "\n",
    "| Type Name             | Python Class | Example 1       | Example 2 |\n",
    "|-----------------------|--------------|-----------------|-----------|\n",
    "| Integer               | `int`        | `1`             | `-2`      |\n",
    "| Floating-Point Number | `float`      | `1.5`           | `-2.0`    |\n",
    "| Boolean               | `bool`       | `True`          | `False`   |\n",
    "| String                | `str`        | `'hello world'` | `\"False\"` |\n",
    "\n",
    "The first two types represent numbers. A \"floating-point\" number describes its [representation by a computer](https://en.wikipedia.org/wiki/Floating_point), which is a topic for another text. Practically, the difference between an integer and a floating-point number is that the latter can represent fractions in addition to whole values.\n",
    "\n",
    "Boolean values, named for the logician [George Boole](https://en.wikipedia.org/wiki/George_Boole), represent truth and take only two possible values: `True` and `False`.\n",
    "\n",
    "Strings are the most flexible type of all. They can contain arbitrary text."
   ]
  }
 ],
 "metadata": {
  "kernelspec": {
   "display_name": "Python 3",
   "language": "python",
   "name": "python3"
  },
  "language_info": {
   "codemirror_mode": {
    "name": "ipython",
    "version": 3
   },
   "file_extension": ".py",
   "mimetype": "text/x-python",
   "name": "python",
   "nbconvert_exporter": "python",
   "pygments_lexer": "ipython3",
   "version": "3.4.5"
  }
 },
 "nbformat": 4,
 "nbformat_minor": 0
}
