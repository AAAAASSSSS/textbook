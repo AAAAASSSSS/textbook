{
 "cells": [
  {
   "cell_type": "code",
   "execution_count": 1,
   "metadata": {
    "collapsed": true
   },
   "outputs": [],
   "source": [
    "# HIDDEN\n",
    "\n",
    "from datascience import *\n",
    "import matplotlib.pyplot as plots\n",
    "plots.style.use('fivethirtyeight')\n",
    "%matplotlib inline"
   ]
  },
  {
   "cell_type": "markdown",
   "metadata": {},
   "source": [
    "We are building up a useful inventory of techniques for identifying patterns\n",
    "and themes in a data set. Sorting and grouping rows of a table can focus our\n",
    "attention. The next approach to analysis we will consider\n",
    "involves grouping rows of a table by arbitrary criteria. To do so, we will\n",
    "explore two core features of the Python programming language: function\n",
    "definition and conditional statements.\n",
    "\n",
    "We have used functions extensively already in this text, but never defined a\n",
    "function of our own. The purpose of defining a function is to give a name to a\n",
    "computational process that may be applied multiple times. There are\n",
    "many situations in computing that require repeated computation. For example,\n",
    "it is often the case that we will want to perform the same manipulation on\n",
    "every value in a column.\n",
    "\n",
    "A function is defined in Python using a `def` statement, which is a multi-line\n",
    "statement that begins with a *header* line giving the name of the function and\n",
    "names for the arguments of the function. The rest of the `def` statement,\n",
    "called the *body*, must be indented below the header.\n",
    "\n",
    "A function expresses a relationship between its inputs (called *arguments*) and\n",
    "its outputs (called *return values*). The number of arguments required to call\n",
    "a function is the number of names that appear within parentheses in the `def`\n",
    "statement header. The values that are returned depend on the body. Whenever a\n",
    "function is called, its body is executed. Whenever a `return` statement within\n",
    "the body is executed, the call to the function completes and the value of the\n",
    "`return` expression is returned as the value of the function call."
   ]
  },
  {
   "cell_type": "markdown",
   "metadata": {},
   "source": [
    "The definition of the `percent` function below multiplies a number by 100 and rounds the result to two decimal places. "
   ]
  },
  {
   "cell_type": "code",
   "execution_count": 25,
   "metadata": {
    "collapsed": true
   },
   "outputs": [],
   "source": [
    "def percent(x):\n",
    "    return round(100*x, 2)"
   ]
  },
  {
   "cell_type": "markdown",
   "metadata": {},
   "source": [
    "The primary difference between defining a `percent` function and simply evaluating its return expression, `round(100*x, 2)`, is that when a function is defined, its return expression is *not* immediately evaluated. It cannot be, because the value for `x` is not yet defined. Instead, the return expression is evaluated whenever this `percent` function is *called* by placing parentheses after the name `percent` and placing an expression to compute its argument in parentheses."
   ]
  },
  {
   "cell_type": "code",
   "execution_count": 26,
   "metadata": {
    "collapsed": false
   },
   "outputs": [
    {
     "data": {
      "text/plain": [
       "16.67"
      ]
     },
     "execution_count": 26,
     "metadata": {},
     "output_type": "execute_result"
    }
   ],
   "source": [
    "percent(1/6)"
   ]
  },
  {
   "cell_type": "code",
   "execution_count": 27,
   "metadata": {
    "collapsed": false
   },
   "outputs": [
    {
     "data": {
      "text/plain": [
       "0.02"
      ]
     },
     "execution_count": 27,
     "metadata": {},
     "output_type": "execute_result"
    }
   ],
   "source": [
    "percent(1/6000)"
   ]
  },
  {
   "cell_type": "code",
   "execution_count": 28,
   "metadata": {
    "collapsed": false
   },
   "outputs": [
    {
     "data": {
      "text/plain": [
       "0.0"
      ]
     },
     "execution_count": 28,
     "metadata": {},
     "output_type": "execute_result"
    }
   ],
   "source": [
    "percent(1/60000)"
   ]
  },
  {
   "cell_type": "markdown",
   "metadata": {},
   "source": [
    "The three expressions above are all *call expressions*. In the first, the value of `1/6` is computed and then passed as the argument named `x` to the `percent` function. When the `percent` function is called in this way, its body is executed. The body of `percent` has only a single line: `return round(100*x, 2)`. Executing this *`return` statement* completes execution of the `percent` function's body and computes the value of the call expression.\n",
    "\n",
    "The same result is computed by passing a named value as an argument. The `percent` function does not know or care how its argument is computed or stored; its only job is to execute its own body using the arguments passed to it."
   ]
  },
  {
   "cell_type": "code",
   "execution_count": 29,
   "metadata": {
    "collapsed": false
   },
   "outputs": [
    {
     "data": {
      "text/plain": [
       "16.67"
      ]
     },
     "execution_count": 29,
     "metadata": {},
     "output_type": "execute_result"
    }
   ],
   "source": [
    "sixth = 1/6\n",
    "percent(sixth)"
   ]
  },
  {
   "cell_type": "markdown",
   "metadata": {},
   "source": [
    "**Conditional Statements.**  The body of a function can have more than one line and more than one `return` statement. A *conditional statement* is a multi-line statement that allows Python to choose among different alternatives based on the truth value of an expression. While conditional statements can appear anywhere, they appear most often within the body of a function in order to express alternative behavior depending on argument values.\n",
    "\n",
    "A conditional statement always begins with an `if` header, which is a single line followed by an indented body. The body is only executed if the expression directly following `if` (called the *if expression*) evaluates to a true value. If the *if expression* evaluates to a false value, then the body of the `if` is skipped.\n",
    "\n",
    "For example, we can improve our `percent` function so that it doesn't round very small numbers to zero so readily. The behavior of `percent(1/6)` is unchanged, but `percent(1/60000)` provides a more useful result."
   ]
  },
  {
   "cell_type": "code",
   "execution_count": 3,
   "metadata": {
    "collapsed": true
   },
   "outputs": [],
   "source": [
    "def percent(x):\n",
    "    if x < 0.00005:\n",
    "        return 100 * x\n",
    "    return round(100 * x, 2)"
   ]
  },
  {
   "cell_type": "code",
   "execution_count": 4,
   "metadata": {
    "collapsed": false
   },
   "outputs": [
    {
     "data": {
      "text/plain": [
       "16.67"
      ]
     },
     "execution_count": 4,
     "metadata": {},
     "output_type": "execute_result"
    }
   ],
   "source": [
    "percent(1/6)"
   ]
  },
  {
   "cell_type": "code",
   "execution_count": 5,
   "metadata": {
    "collapsed": false
   },
   "outputs": [
    {
     "data": {
      "text/plain": [
       "0.02"
      ]
     },
     "execution_count": 5,
     "metadata": {},
     "output_type": "execute_result"
    }
   ],
   "source": [
    "percent(1/6000)"
   ]
  },
  {
   "cell_type": "code",
   "execution_count": 6,
   "metadata": {
    "collapsed": false
   },
   "outputs": [
    {
     "data": {
      "text/plain": [
       "0.0016666666666666668"
      ]
     },
     "execution_count": 6,
     "metadata": {},
     "output_type": "execute_result"
    }
   ],
   "source": [
    "percent(1/60000)"
   ]
  },
  {
   "cell_type": "markdown",
   "metadata": {},
   "source": [
    "A conditional statement can also have multiple clauses with multiple bodies, and only one of those bodies can ever be executed. The general format of a multi-clause conditional statement appears below.\n",
    "\n",
    "    if <if expression>:\n",
    "        <if body>\n",
    "    elif <elif expression 0>:\n",
    "        <elif body 0>\n",
    "    elif <elif expression 1>:\n",
    "        <elif body 1>\n",
    "    ...\n",
    "    else:\n",
    "        <else body>\n",
    "        \n",
    "There is always exactly one `if` clause, but there can be any number of `elif` clauses. Python will evaluate the `if` and `elif` expressions in the headers in order until one is found that is a true value, then execute the corresponding body. The `else` clause is optional. When an `else` header is provided, its *else body* is executed only if none of the header expressions of the previous clauses are true. The `else` clause must always come at the end (or not at all).\n",
    "\n",
    "Let us continue to refine our `percent` function. Perhaps for some analysis, any value below $10^{-8}$ should be considered close enough to 0 that it can be ignored. The following function definition handles this case as well."
   ]
  },
  {
   "cell_type": "code",
   "execution_count": 34,
   "metadata": {
    "collapsed": true
   },
   "outputs": [],
   "source": [
    "def percent(x):\n",
    "    if x < 1e-8:\n",
    "        return 0.0\n",
    "    elif x < 0.00005:\n",
    "        return 100 * x\n",
    "    else:\n",
    "        return round(100 * x, 2)"
   ]
  },
  {
   "cell_type": "code",
   "execution_count": 35,
   "metadata": {
    "collapsed": false
   },
   "outputs": [
    {
     "data": {
      "text/plain": [
       "16.67"
      ]
     },
     "execution_count": 35,
     "metadata": {},
     "output_type": "execute_result"
    }
   ],
   "source": [
    "percent(1/6)"
   ]
  },
  {
   "cell_type": "code",
   "execution_count": 36,
   "metadata": {
    "collapsed": false
   },
   "outputs": [
    {
     "data": {
      "text/plain": [
       "0.02"
      ]
     },
     "execution_count": 36,
     "metadata": {},
     "output_type": "execute_result"
    }
   ],
   "source": [
    "percent(1/6000)"
   ]
  },
  {
   "cell_type": "code",
   "execution_count": 37,
   "metadata": {
    "collapsed": false
   },
   "outputs": [
    {
     "data": {
      "text/plain": [
       "0.0016666666666666668"
      ]
     },
     "execution_count": 37,
     "metadata": {},
     "output_type": "execute_result"
    }
   ],
   "source": [
    "percent(1/60000)"
   ]
  },
  {
   "cell_type": "code",
   "execution_count": 38,
   "metadata": {
    "collapsed": false
   },
   "outputs": [
    {
     "data": {
      "text/plain": [
       "0.0"
      ]
     },
     "execution_count": 38,
     "metadata": {},
     "output_type": "execute_result"
    }
   ],
   "source": [
    "percent(1/60000000000)"
   ]
  },
  {
   "cell_type": "markdown",
   "metadata": {},
   "source": [
    "A well-composed function has a name that evokes its behavior, as well as a *docstring* — a description of its behavior and expectations about its arguments. The docstring can also show example calls to the function, where the call is preceded by `>>>`.\n",
    "\n",
    "A docstring can be any string that immediately follows the header line of a `def` statement. Docstrings are typically defined using triple quotation marks at the start and end, which allows the string to span multiple lines. The first line is conventionally a complete but short description of the function, while following lines provide further guidance to future users of the function.\n",
    "\n",
    "A more complete definition of `percent` that includes a docstring appears below."
   ]
  },
  {
   "cell_type": "code",
   "execution_count": 39,
   "metadata": {
    "collapsed": true
   },
   "outputs": [],
   "source": [
    "def percent(x):\n",
    "    \"\"\"Convert x to a percentage by multiplying by 100.\n",
    "    \n",
    "    Percentages are conventionally rounded to two decimal places,\n",
    "    but precision is retained for any x above 1e-8 that would \n",
    "    otherwise round to 0.\n",
    "    \n",
    "    >>> percent(1/6)\n",
    "    16.67\n",
    "    >>> perent(1/6000)\n",
    "    0.02\n",
    "    >>> perent(1/60000)\n",
    "    0.0016666666666666668\n",
    "    >>> percent(1/60000000000)\n",
    "    0.0\n",
    "    \"\"\"\n",
    "    if x < 1e-8:\n",
    "        return 0.0\n",
    "    elif x < 0.00005:\n",
    "        return 100 * x\n",
    "    else:\n",
    "        return round(100 * x, 2)"
   ]
  }
 ],
 "metadata": {
  "kernelspec": {
   "display_name": "Python 3",
   "language": "python",
   "name": "python3"
  },
  "language_info": {
   "codemirror_mode": {
    "name": "ipython",
    "version": 3
   },
   "file_extension": ".py",
   "mimetype": "text/x-python",
   "name": "python",
   "nbconvert_exporter": "python",
   "pygments_lexer": "ipython3",
   "version": "3.4.5"
  }
 },
 "nbformat": 4,
 "nbformat_minor": 0
}
