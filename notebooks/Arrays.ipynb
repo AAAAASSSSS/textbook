{
 "cells": [
  {
   "cell_type": "markdown",
   "metadata": {},
   "source": [
    "Many experiments and data sets involve multiple values of the same type. An *array* is a collection of values that all have the same type. The `numpy` package, abbreviated `np` in programs, provides Python programmers with convenient and powerful functions for creating and manipulating arrays."
   ]
  },
  {
   "cell_type": "code",
   "execution_count": 7,
   "metadata": {
    "collapsed": true
   },
   "outputs": [],
   "source": [
    "import numpy as np"
   ]
  },
  {
   "cell_type": "markdown",
   "metadata": {},
   "source": [
    "An array is created using the `np.array` function, which takes a list or tuple as an argument. Here, we create arrays of average daily [high](http://berkeleyearth.lbl.gov/auto/Regional/TMAX/Text/global-land-TMAX-Trend.txt) and [low](http://berkeleyearth.lbl.gov/auto/Regional/TMIN/Text/global-land-TMIN-Trend.txt) temperatures for the decades surrounding 1850, 1900, 1950, and 2000."
   ]
  },
  {
   "cell_type": "code",
   "execution_count": 15,
   "metadata": {
    "collapsed": false
   },
   "outputs": [
    {
     "data": {
      "text/plain": [
       "array([ 13.6  ,  14.387,  14.585,  15.164])"
      ]
     },
     "execution_count": 15,
     "metadata": {},
     "output_type": "execute_result"
    }
   ],
   "source": [
    "baseline_high = 14.48\n",
    "highs = np.array([baseline_high - 0.880, \n",
    "                  baseline_high - 0.093,\n",
    "                  baseline_high + 0.105, \n",
    "                  baseline_high + 0.684])\n",
    "highs"
   ]
  },
  {
   "cell_type": "code",
   "execution_count": 16,
   "metadata": {
    "collapsed": false
   },
   "outputs": [
    {
     "data": {
      "text/plain": [
       "array([ 2.128,  2.371,  2.874,  3.728])"
      ]
     },
     "execution_count": 16,
     "metadata": {},
     "output_type": "execute_result"
    }
   ],
   "source": [
    "baseline_low = 3.00\n",
    "lows = np.array((baseline_low - 0.872, baseline_low - 0.629,\n",
    "                 baseline_low - 0.126, baseline_low + 0.728))\n",
    "lows"
   ]
  },
  {
   "cell_type": "markdown",
   "metadata": {},
   "source": [
    "Arrays differ from lists and tuples because they can be used in arithmetic expressions to compute over their contents. When an array is combined with a single number, that number is combined with each element of the array. Therefore, we can convert all of these temperatures to Farenheit by writing the familiar conversion formula."
   ]
  },
  {
   "cell_type": "code",
   "execution_count": 10,
   "metadata": {
    "collapsed": false
   },
   "outputs": [
    {
     "data": {
      "text/plain": [
       "array([ 56.48  ,  57.8966,  58.253 ,  59.2952])"
      ]
     },
     "execution_count": 10,
     "metadata": {},
     "output_type": "execute_result"
    }
   ],
   "source": [
    "(9/5) * highs + 32"
   ]
  },
  {
   "cell_type": "markdown",
   "metadata": {},
   "source": [
    "When two arrays are combined together using an arithmetic operator, their individual values are combined. For example, we can compute the daily temperature ranges by subtracting."
   ]
  },
  {
   "cell_type": "code",
   "execution_count": 11,
   "metadata": {
    "collapsed": false
   },
   "outputs": [
    {
     "data": {
      "text/plain": [
       "array([ 11.472,  12.016,  11.711,  11.436])"
      ]
     },
     "execution_count": 11,
     "metadata": {},
     "output_type": "execute_result"
    }
   ],
   "source": [
    "highs - lows"
   ]
  },
  {
   "cell_type": "markdown",
   "metadata": {},
   "source": [
    "Arrays also have *methods*, which are functions that operate on the array values. The `mean` of a collection of numbers is its average value: the sum divided by the length. Each pair of parentheses in the example below is part of a call expression; it's calling a function with no arguments to perform a computation on the array called `temps`."
   ]
  },
  {
   "cell_type": "code",
   "execution_count": 17,
   "metadata": {
    "collapsed": false
   },
   "outputs": [
    {
     "data": {
      "text/plain": [
       "[4, 57.736000000000004, 14.434000000000001]"
      ]
     },
     "execution_count": 17,
     "metadata": {},
     "output_type": "execute_result"
    }
   ],
   "source": [
    "[highs.size, highs.sum(), highs.mean()]"
   ]
  },
  {
   "cell_type": "markdown",
   "metadata": {},
   "source": [
    "It's common that small rounding errors appear in arithmetic on a computer. For instance, the mean (average) above is in fact `14.434`, but an extra 0.0000000000000001 has been added during the computation of the average. Arithmetic rounding errors are an important topic in scientific computing, but won't be a focus of this text. Everyone who works with data must be aware that some operations will be approximated so that values can be stored and manipulated efficiently."
   ]
  },
  {
   "cell_type": "markdown",
   "metadata": {},
   "source": [
    "#### Functions on Arrays\n",
    "\n",
    "In addition to basic arithmetic and methods such as `min` and `max`, manipulating arrays often involves calling functions that are part of the `np` package. For example, the `diff` function computes the difference between each adjacent pair of elements in an array. The first element of the `diff` is the second element minus the first. "
   ]
  },
  {
   "cell_type": "code",
   "execution_count": 19,
   "metadata": {
    "collapsed": false
   },
   "outputs": [
    {
     "data": {
      "text/plain": [
       "array([ 0.787,  0.198,  0.579])"
      ]
     },
     "execution_count": 19,
     "metadata": {},
     "output_type": "execute_result"
    }
   ],
   "source": [
    "np.diff(highs)"
   ]
  },
  {
   "cell_type": "markdown",
   "metadata": {},
   "source": [
    "The [full Numpy reference](http://docs.scipy.org/doc/numpy/reference/) lists these functions exhaustively, but only a small subset are used commonly for data processing applications. These are grouped into different packages within `np`. Learning this vocabulary is an important part of learning the Python language, so refer back to this list often as you work through examples and problems.\n",
    "\n",
    "Each of these functions takes an array as an argument and returns a single value.\n",
    "\n",
    "| **Function**       | Description                                                          |\n",
    "|--------------------|----------------------------------------------------------------------|\n",
    "| `np.prod`          | Multiply all elements together                                       |\n",
    "| `np.sum`           | Add all elements together                                            |\n",
    "| `np.all`           | Test whether all elements are true values (non-zero numbers are true)|\n",
    "| `np.any`           | Test whether any elements are true values (non-zero numbers are true)|\n",
    "| `np.count_nonzero` | Count the number of non-zero elements                                |\n",
    "\n",
    "Each of these functions takes an array as an argument and returns an array of values.\n",
    "\n",
    "| **Function**       | Description                                                          |\n",
    "|--------------------|----------------------------------------------------------------------|\n",
    "| `np.diff`          | Difference between adjacent elements                                 |\n",
    "| `np.round`         | Round each number to the nearest integer (whole number)              |\n",
    "| `np.cumprod`       | A cumulative product: for each element, multiply all elements so far |\n",
    "| `np.cumsum`        | A cumulative sum: for each element, add all elements so far          |\n",
    "| `np.exp`           | Exponentiate each element                                            |\n",
    "| `np.log`           | Take the natural logarithm of each element                           |\n",
    "| `np.sqrt`          | Take the square root of each element                                 |\n",
    "| `np.sort`          | Sort the elements                                                    |\n",
    "\n",
    "Each of these functions takes an array of strings and returns an array.\n",
    "\n",
    "| **Function**        | **Description**                                              |\n",
    "|---------------------|--------------------------------------------------------------|\n",
    "| `np.char.lower`     | Lowercase each element                                       |\n",
    "| `np.char.upper`     | Uppercase each element                                       |\n",
    "| `np.char.strip`     | Remove spaces at the beginning or end of each element        |\n",
    "| `np.char.isalpha`   | Whether each element is only letters (no numbers or symbols) |\n",
    "| `np.char.isnumeric` | Whether each element is only numeric (no letters)  \n",
    "\n",
    "Each of these functions takes both an array of strings and a *search string*; each returns an array.\n",
    "\n",
    "| **Function**         | **Description**                                                                  |\n",
    "|----------------------|----------------------------------------------------------------------------------|\n",
    "| `np.char.count`      | Count the number of times a search string appears among the elements of an array |\n",
    "| `np.char.find`       | The position within each element that a search string is found first             |\n",
    "| `np.char.rfind`      | The position within each element that a search string is found last              |\n",
    "| `np.char.startswith` | Whether each element starts with the search string  \n",
    "\n"
   ]
  }
 ],
 "metadata": {
  "kernelspec": {
   "display_name": "Python 3",
   "language": "python",
   "name": "python3"
  },
  "language_info": {
   "codemirror_mode": {
    "name": "ipython",
    "version": 3
   },
   "file_extension": ".py",
   "mimetype": "text/x-python",
   "name": "python",
   "nbconvert_exporter": "python",
   "pygments_lexer": "ipython3",
   "version": "3.4.4"
  }
 },
 "nbformat": 4,
 "nbformat_minor": 0
}
