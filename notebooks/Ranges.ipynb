{
 "cells": [
  {
   "cell_type": "code",
   "execution_count": 3,
   "metadata": {
    "collapsed": true
   },
   "outputs": [],
   "source": [
    "# HIDDEN\n",
    "import numpy as np"
   ]
  },
  {
   "cell_type": "markdown",
   "metadata": {},
   "source": [
    "A *range* is an array of numbers in increasing or decreasing order, each separated by a regular interval. Ranges are defined  using the `np.arange` function, which takes either one, two, or three arguments. \n",
    "\n",
    "    np.arange(end): An array starting with 0 of increasing integers up to end\n",
    "    np.arange(start, end): An array of increasing integers from start up to end\n",
    "    np.arange(start, end, step): A range with step between each pair of consecutive values"
   ]
  },
  {
   "cell_type": "markdown",
   "metadata": {},
   "source": [
    "A range always includes its `start` value, but does not include its `end` value. The `step` can be either positive or negative and may be a whole number or a fraction. "
   ]
  },
  {
   "cell_type": "code",
   "execution_count": 4,
   "metadata": {
    "collapsed": false
   },
   "outputs": [
    {
     "data": {
      "text/plain": [
       "array([ 1,  5,  9, 13, 17, 21, 25, 29, 33, 37, 41, 45, 49, 53, 57, 61, 65,\n",
       "       69, 73, 77, 81, 85, 89, 93, 97])"
      ]
     },
     "execution_count": 4,
     "metadata": {},
     "output_type": "execute_result"
    }
   ],
   "source": [
    "by_four = np.arange(1, 100, 4)\n",
    "by_four"
   ]
  },
  {
   "cell_type": "markdown",
   "metadata": {},
   "source": [
    "Ranges have many uses. For instance, a range can be used to compute part of the Leibniz formula for π, which is typically written as\n",
    "\n",
    "$$\\pi = 4 \\cdot \\left(1 - \\frac{1}{3} + \\frac{1}{5} - \\frac{1}{7} + \\frac{1}{9} - \\frac{1}{11} \\dots\\right)$$"
   ]
  },
  {
   "cell_type": "code",
   "execution_count": 5,
   "metadata": {
    "collapsed": false
   },
   "outputs": [
    {
     "data": {
      "text/plain": [
       "3.1215946525910097"
      ]
     },
     "execution_count": 5,
     "metadata": {},
     "output_type": "execute_result"
    }
   ],
   "source": [
    "4 * sum(1 / by_four - 1 / (by_four + 2))"
   ]
  },
  {
   "cell_type": "markdown",
   "metadata": {},
   "source": [
    "### The Birthday Problem"
   ]
  },
  {
   "cell_type": "markdown",
   "metadata": {},
   "source": [
    "There are `k` students in a class. What is the chance that at least two of the students have the same birthday?\n",
    "\n",
    "*Assumptions*\n",
    "\n",
    "1. No leap years; every year has 365 days\n",
    "2. Births are distributed evenly throughout the year\n",
    "3. No student's birthday is affected by any other (e.g. twins)\n",
    "\n",
    "Let's start with an easy case: `k` is 4. We'll first find the chance that all four people have different birthdays. "
   ]
  },
  {
   "cell_type": "code",
   "execution_count": 6,
   "metadata": {
    "collapsed": true
   },
   "outputs": [],
   "source": [
    "all_different = (364/365)*(363/365)*(362/365)"
   ]
  },
  {
   "cell_type": "markdown",
   "metadata": {},
   "source": [
    "The chance that there is at least one pair with the same birthday is equivalent to the chance that the birthdays are not all different. Given the chance of some event occurring, the chance that the event does not occur is one minus the chance that it does. With only 4 people, the chance that any two have the same birthday is less than 2%."
   ]
  },
  {
   "cell_type": "code",
   "execution_count": 7,
   "metadata": {
    "collapsed": false
   },
   "outputs": [
    {
     "data": {
      "text/plain": [
       "0.016355912466550215"
      ]
     },
     "execution_count": 7,
     "metadata": {},
     "output_type": "execute_result"
    }
   ],
   "source": [
    "1 - all_different"
   ]
  },
  {
   "cell_type": "markdown",
   "metadata": {},
   "source": [
    "Using a range, we can express this same computation compactly. We begin with the numerators of each factor."
   ]
  },
  {
   "cell_type": "code",
   "execution_count": 8,
   "metadata": {
    "collapsed": false
   },
   "outputs": [
    {
     "data": {
      "text/plain": [
       "array([364, 363, 362])"
      ]
     },
     "execution_count": 8,
     "metadata": {},
     "output_type": "execute_result"
    }
   ],
   "source": [
    "k = 4\n",
    "numerators = np.arange(364, 365-k, -1)\n",
    "numerators"
   ]
  },
  {
   "cell_type": "markdown",
   "metadata": {},
   "source": [
    "Then, we divide each numerator by 365 to form the factors, multiply them all together, and subtract from 1."
   ]
  },
  {
   "cell_type": "code",
   "execution_count": 9,
   "metadata": {
    "collapsed": false
   },
   "outputs": [
    {
     "data": {
      "text/plain": [
       "0.016355912466550215"
      ]
     },
     "execution_count": 9,
     "metadata": {},
     "output_type": "execute_result"
    }
   ],
   "source": [
    "1 - np.prod(numerators/365)"
   ]
  },
  {
   "cell_type": "markdown",
   "metadata": {},
   "source": [
    "If `k` is 40, the chance of two birthdays being the same is much higher: almost 90%!"
   ]
  },
  {
   "cell_type": "code",
   "execution_count": 10,
   "metadata": {
    "collapsed": false
   },
   "outputs": [
    {
     "data": {
      "text/plain": [
       "0.89123180981794903"
      ]
     },
     "execution_count": 10,
     "metadata": {},
     "output_type": "execute_result"
    }
   ],
   "source": [
    "k = 40\n",
    "numerators = np.arange(364, 365-k, -1)\n",
    "1 - np.prod(numerators/365)"
   ]
  },
  {
   "cell_type": "markdown",
   "metadata": {},
   "source": [
    "Using ranges, we can investigate how this chance changes as `k` increases. The `np.cumprod` function computes the cumulative product of an array. That is, it computes a new array that has the same length as its input, but the `i`th element is the product of the first `i` terms. Below, the fourth term of the result is `1 * 2 * 3 * 4`."
   ]
  },
  {
   "cell_type": "code",
   "execution_count": 11,
   "metadata": {
    "collapsed": false
   },
   "outputs": [
    {
     "data": {
      "text/plain": [
       "array([    1,     2,     6,    24,   120,   720,  5040, 40320])"
      ]
     },
     "execution_count": 11,
     "metadata": {},
     "output_type": "execute_result"
    }
   ],
   "source": [
    "ten = np.arange(1, 9)\n",
    "np.cumprod(ten)"
   ]
  },
  {
   "cell_type": "markdown",
   "metadata": {},
   "source": [
    "The following cell computes the chance of matching birthdays for every class size from 2 up to 365. Scrolling through the result, you will see that as `k` increases, the chance of matching birthdays reaches 1 long before the end of the array. In fact, for any `k` smaller than 365, there is a chance that all `k` students in a class can have different birthdays. The chance is so small, however, that the difference from 1 is rounded away by the computer."
   ]
  },
  {
   "cell_type": "code",
   "execution_count": 12,
   "metadata": {
    "collapsed": false
   },
   "outputs": [
    {
     "data": {
      "text/plain": [
       "array([ 0.00273973,  0.00820417,  0.01635591,  0.02713557,  0.04046248,\n",
       "        0.0562357 ,  0.07433529,  0.09462383,  0.11694818,  0.14114138,\n",
       "        0.16702479,  0.19441028,  0.22310251,  0.25290132,  0.28360401,\n",
       "        0.31500767,  0.34691142,  0.37911853,  0.41143838,  0.44368834,\n",
       "        0.47569531,  0.50729723,  0.53834426,  0.5686997 ,  0.59824082,\n",
       "        0.62685928,  0.65446147,  0.68096854,  0.70631624,  0.73045463,\n",
       "        0.75334753,  0.77497185,  0.79531686,  0.81438324,  0.83218211,\n",
       "        0.84873401,  0.86406782,  0.87821966,  0.89123181,  0.90315161,\n",
       "        0.91403047,  0.92392286,  0.93288537,  0.9409759 ,  0.94825284,\n",
       "        0.9547744 ,  0.96059797,  0.96577961,  0.97037358,  0.97443199,\n",
       "        0.97800451,  0.98113811,  0.98387696,  0.98626229,  0.98833235,\n",
       "        0.99012246,  0.99166498,  0.99298945,  0.99412266,  0.9950888 ,\n",
       "        0.99590957,  0.99660439,  0.99719048,  0.99768311,  0.9980957 ,\n",
       "        0.99844004,  0.99872639,  0.99896367,  0.99915958,  0.99932075,\n",
       "        0.99945288,  0.99956081,  0.99964864,  0.99971988,  0.99977744,\n",
       "        0.99982378,  0.99986095,  0.99989067,  0.99991433,  0.99993311,\n",
       "        0.99994795,  0.99995965,  0.99996882,  0.999976  ,  0.99998159,\n",
       "        0.99998593,  0.99998928,  0.99999186,  0.99999385,  0.99999537,\n",
       "        0.99999652,  0.9999974 ,  0.99999806,  0.99999856,  0.99999893,\n",
       "        0.99999922,  0.99999942,  0.99999958,  0.99999969,  0.99999978,\n",
       "        0.99999984,  0.99999988,  0.99999992,  0.99999994,  0.99999996,\n",
       "        0.99999997,  0.99999998,  0.99999998,  0.99999999,  0.99999999,\n",
       "        0.99999999,  1.        ,  1.        ,  1.        ,  1.        ,\n",
       "        1.        ,  1.        ,  1.        ,  1.        ,  1.        ,\n",
       "        1.        ,  1.        ,  1.        ,  1.        ,  1.        ,\n",
       "        1.        ,  1.        ,  1.        ,  1.        ,  1.        ,\n",
       "        1.        ,  1.        ,  1.        ,  1.        ,  1.        ,\n",
       "        1.        ,  1.        ,  1.        ,  1.        ,  1.        ,\n",
       "        1.        ,  1.        ,  1.        ,  1.        ,  1.        ,\n",
       "        1.        ,  1.        ,  1.        ,  1.        ,  1.        ,\n",
       "        1.        ,  1.        ,  1.        ,  1.        ,  1.        ,\n",
       "        1.        ,  1.        ,  1.        ,  1.        ,  1.        ,\n",
       "        1.        ,  1.        ,  1.        ,  1.        ,  1.        ,\n",
       "        1.        ,  1.        ,  1.        ,  1.        ,  1.        ,\n",
       "        1.        ,  1.        ,  1.        ,  1.        ,  1.        ,\n",
       "        1.        ,  1.        ,  1.        ,  1.        ,  1.        ,\n",
       "        1.        ,  1.        ,  1.        ,  1.        ,  1.        ,\n",
       "        1.        ,  1.        ,  1.        ,  1.        ,  1.        ,\n",
       "        1.        ,  1.        ,  1.        ,  1.        ,  1.        ,\n",
       "        1.        ,  1.        ,  1.        ,  1.        ,  1.        ,\n",
       "        1.        ,  1.        ,  1.        ,  1.        ,  1.        ,\n",
       "        1.        ,  1.        ,  1.        ,  1.        ,  1.        ,\n",
       "        1.        ,  1.        ,  1.        ,  1.        ,  1.        ,\n",
       "        1.        ,  1.        ,  1.        ,  1.        ,  1.        ,\n",
       "        1.        ,  1.        ,  1.        ,  1.        ,  1.        ,\n",
       "        1.        ,  1.        ,  1.        ,  1.        ,  1.        ,\n",
       "        1.        ,  1.        ,  1.        ,  1.        ,  1.        ,\n",
       "        1.        ,  1.        ,  1.        ,  1.        ,  1.        ,\n",
       "        1.        ,  1.        ,  1.        ,  1.        ,  1.        ,\n",
       "        1.        ,  1.        ,  1.        ,  1.        ,  1.        ,\n",
       "        1.        ,  1.        ,  1.        ,  1.        ,  1.        ,\n",
       "        1.        ,  1.        ,  1.        ,  1.        ,  1.        ,\n",
       "        1.        ,  1.        ,  1.        ,  1.        ,  1.        ,\n",
       "        1.        ,  1.        ,  1.        ,  1.        ,  1.        ,\n",
       "        1.        ,  1.        ,  1.        ,  1.        ,  1.        ,\n",
       "        1.        ,  1.        ,  1.        ,  1.        ,  1.        ,\n",
       "        1.        ,  1.        ,  1.        ,  1.        ,  1.        ,\n",
       "        1.        ,  1.        ,  1.        ,  1.        ,  1.        ,\n",
       "        1.        ,  1.        ,  1.        ,  1.        ,  1.        ,\n",
       "        1.        ,  1.        ,  1.        ,  1.        ,  1.        ,\n",
       "        1.        ,  1.        ,  1.        ,  1.        ,  1.        ,\n",
       "        1.        ,  1.        ,  1.        ,  1.        ,  1.        ,\n",
       "        1.        ,  1.        ,  1.        ,  1.        ,  1.        ,\n",
       "        1.        ,  1.        ,  1.        ,  1.        ,  1.        ,\n",
       "        1.        ,  1.        ,  1.        ,  1.        ,  1.        ,\n",
       "        1.        ,  1.        ,  1.        ,  1.        ,  1.        ,\n",
       "        1.        ,  1.        ,  1.        ,  1.        ,  1.        ,\n",
       "        1.        ,  1.        ,  1.        ,  1.        ,  1.        ,\n",
       "        1.        ,  1.        ,  1.        ,  1.        ,  1.        ,\n",
       "        1.        ,  1.        ,  1.        ,  1.        ,  1.        ,\n",
       "        1.        ,  1.        ,  1.        ,  1.        ,  1.        ,\n",
       "        1.        ,  1.        ,  1.        ,  1.        ,  1.        ,\n",
       "        1.        ,  1.        ,  1.        ,  1.        ])"
      ]
     },
     "execution_count": 12,
     "metadata": {},
     "output_type": "execute_result"
    }
   ],
   "source": [
    "numerators = np.arange(364, 0, -1)\n",
    "chances = 1 - np.cumprod(numerators/365)\n",
    "chances"
   ]
  },
  {
   "cell_type": "markdown",
   "metadata": {},
   "source": [
    "The `item` method of an array allows us to select a particular element from the array by its position. The starting position of an array is `item(0)`, so finding the chance of matching birthdays in a 40-person class involves extracting `item(40-2)` (because the starting item is for a 2-person class)."
   ]
  },
  {
   "cell_type": "code",
   "execution_count": 13,
   "metadata": {
    "collapsed": false
   },
   "outputs": [
    {
     "data": {
      "text/plain": [
       "0.891231809817949"
      ]
     },
     "execution_count": 13,
     "metadata": {},
     "output_type": "execute_result"
    }
   ],
   "source": [
    "chances.item(40-2)"
   ]
  }
 ],
 "metadata": {
  "kernelspec": {
   "display_name": "Python 3",
   "language": "python",
   "name": "python3"
  },
  "language_info": {
   "codemirror_mode": {
    "name": "ipython",
    "version": 3
   },
   "file_extension": ".py",
   "mimetype": "text/x-python",
   "name": "python",
   "nbconvert_exporter": "python",
   "pygments_lexer": "ipython3",
   "version": "3.4.4"
  }
 },
 "nbformat": 4,
 "nbformat_minor": 0
}
